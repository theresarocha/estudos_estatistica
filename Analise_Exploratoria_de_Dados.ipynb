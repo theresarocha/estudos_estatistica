{
  "nbformat": 4,
  "nbformat_minor": 0,
  "metadata": {
    "colab": {
      "name": "Analise Exploratoria de Dados.ipynb",
      "provenance": [],
      "collapsed_sections": [],
      "authorship_tag": "ABX9TyNc20eYEZ0tbdJo2jTtAm5q",
      "include_colab_link": true
    },
    "kernelspec": {
      "name": "python3",
      "display_name": "Python 3"
    },
    "language_info": {
      "name": "python"
    }
  },
  "cells": [
    {
      "cell_type": "markdown",
      "metadata": {
        "id": "view-in-github",
        "colab_type": "text"
      },
      "source": [
        "<a href=\"https://colab.research.google.com/github/theresarocha/estudos_estatistica/blob/main/Analise_Exploratoria_de_Dados.ipynb\" target=\"_parent\"><img src=\"https://colab.research.google.com/assets/colab-badge.svg\" alt=\"Open In Colab\"/></a>"
      ]
    },
    {
      "cell_type": "markdown",
      "metadata": {
        "id": "33ZQ4g-A0SdH"
      },
      "source": [
        "#**Análise Exploratória de Dados**"
      ]
    },
    {
      "cell_type": "markdown",
      "metadata": {
        "id": "GZ4P31KY0cea"
      },
      "source": [
        "Este projeto tem por objetivo compreender como é feita uma análise exploratória de dados. \n",
        "\n",
        "Para este estudo, utilizei o conjunto de dados de 36 empregados do departamento de orçamentos da empresa fictícia Companhia MB (Milsa) abordado no Capítulo 2 do livro Estatística Básica de P. A. Morettin e W. O. Bussab. \n",
        "\n",
        "Utilizei como referência o livro acima citado e os materiais elaborados pelo Professor Fernando de Pol Mayer da UFPR. Neste último, as análises foram feitas utilizando a linguagem de programação R. Para este projeto, interpretei o estudo realizado pelo professor Fernando e transcrevi para a linguagem Python, indo além em algumas análises. "
      ]
    },
    {
      "cell_type": "code",
      "metadata": {
        "id": "1elRQ6c01FBu"
      },
      "source": [
        "#Importando o dataset\n",
        "\n",
        "import pandas as pd\n",
        "url = 'https://raw.githubusercontent.com/theresarocha/estudos_estatistica/main/dataset/milsa.csv'\n",
        "dados = pd.read_csv(url)"
      ],
      "execution_count": 2,
      "outputs": []
    },
    {
      "cell_type": "code",
      "metadata": {
        "colab": {
          "base_uri": "https://localhost:8080/",
          "height": 204
        },
        "id": "84ljPPu8ADp9",
        "outputId": "81d22221-eeaf-4595-fada-1c1618e84e4f"
      },
      "source": [
        "#Visualizando as cinco primeiras linhas do dataset\n",
        "dados.head()"
      ],
      "execution_count": 3,
      "outputs": [
        {
          "output_type": "execute_result",
          "data": {
            "text/html": [
              "<div>\n",
              "<style scoped>\n",
              "    .dataframe tbody tr th:only-of-type {\n",
              "        vertical-align: middle;\n",
              "    }\n",
              "\n",
              "    .dataframe tbody tr th {\n",
              "        vertical-align: top;\n",
              "    }\n",
              "\n",
              "    .dataframe thead th {\n",
              "        text-align: right;\n",
              "    }\n",
              "</style>\n",
              "<table border=\"1\" class=\"dataframe\">\n",
              "  <thead>\n",
              "    <tr style=\"text-align: right;\">\n",
              "      <th></th>\n",
              "      <th>Funcionario</th>\n",
              "      <th>Est.civil</th>\n",
              "      <th>Inst</th>\n",
              "      <th>Filhos</th>\n",
              "      <th>Salario</th>\n",
              "      <th>Anos</th>\n",
              "      <th>Meses</th>\n",
              "      <th>Regiao</th>\n",
              "    </tr>\n",
              "  </thead>\n",
              "  <tbody>\n",
              "    <tr>\n",
              "      <th>0</th>\n",
              "      <td>1</td>\n",
              "      <td>solteiro</td>\n",
              "      <td>1o Grau</td>\n",
              "      <td>NaN</td>\n",
              "      <td>4.00</td>\n",
              "      <td>26</td>\n",
              "      <td>3</td>\n",
              "      <td>interior</td>\n",
              "    </tr>\n",
              "    <tr>\n",
              "      <th>1</th>\n",
              "      <td>2</td>\n",
              "      <td>casado</td>\n",
              "      <td>1o Grau</td>\n",
              "      <td>1.0</td>\n",
              "      <td>4.56</td>\n",
              "      <td>32</td>\n",
              "      <td>10</td>\n",
              "      <td>capital</td>\n",
              "    </tr>\n",
              "    <tr>\n",
              "      <th>2</th>\n",
              "      <td>3</td>\n",
              "      <td>casado</td>\n",
              "      <td>1o Grau</td>\n",
              "      <td>2.0</td>\n",
              "      <td>5.25</td>\n",
              "      <td>36</td>\n",
              "      <td>5</td>\n",
              "      <td>capital</td>\n",
              "    </tr>\n",
              "    <tr>\n",
              "      <th>3</th>\n",
              "      <td>4</td>\n",
              "      <td>solteiro</td>\n",
              "      <td>2o Grau</td>\n",
              "      <td>NaN</td>\n",
              "      <td>5.73</td>\n",
              "      <td>20</td>\n",
              "      <td>10</td>\n",
              "      <td>outro</td>\n",
              "    </tr>\n",
              "    <tr>\n",
              "      <th>4</th>\n",
              "      <td>5</td>\n",
              "      <td>solteiro</td>\n",
              "      <td>1o Grau</td>\n",
              "      <td>NaN</td>\n",
              "      <td>6.26</td>\n",
              "      <td>40</td>\n",
              "      <td>7</td>\n",
              "      <td>outro</td>\n",
              "    </tr>\n",
              "  </tbody>\n",
              "</table>\n",
              "</div>"
            ],
            "text/plain": [
              "   Funcionario Est.civil     Inst  Filhos  Salario  Anos  Meses    Regiao\n",
              "0            1  solteiro  1o Grau     NaN     4.00    26      3  interior\n",
              "1            2    casado  1o Grau     1.0     4.56    32     10   capital\n",
              "2            3    casado  1o Grau     2.0     5.25    36      5   capital\n",
              "3            4  solteiro  2o Grau     NaN     5.73    20     10     outro\n",
              "4            5  solteiro  1o Grau     NaN     6.26    40      7     outro"
            ]
          },
          "metadata": {
            "tags": []
          },
          "execution_count": 3
        }
      ]
    },
    {
      "cell_type": "code",
      "metadata": {
        "colab": {
          "base_uri": "https://localhost:8080/",
          "height": 1000
        },
        "id": "ja4OCzSYW92p",
        "outputId": "83fd8f82-a1bf-4499-e268-b2a4fe819f26"
      },
      "source": [
        "#Visualizando todas as linhas do dataset\n",
        "dados.head(38)"
      ],
      "execution_count": 4,
      "outputs": [
        {
          "output_type": "execute_result",
          "data": {
            "text/html": [
              "<div>\n",
              "<style scoped>\n",
              "    .dataframe tbody tr th:only-of-type {\n",
              "        vertical-align: middle;\n",
              "    }\n",
              "\n",
              "    .dataframe tbody tr th {\n",
              "        vertical-align: top;\n",
              "    }\n",
              "\n",
              "    .dataframe thead th {\n",
              "        text-align: right;\n",
              "    }\n",
              "</style>\n",
              "<table border=\"1\" class=\"dataframe\">\n",
              "  <thead>\n",
              "    <tr style=\"text-align: right;\">\n",
              "      <th></th>\n",
              "      <th>Funcionario</th>\n",
              "      <th>Est.civil</th>\n",
              "      <th>Inst</th>\n",
              "      <th>Filhos</th>\n",
              "      <th>Salario</th>\n",
              "      <th>Anos</th>\n",
              "      <th>Meses</th>\n",
              "      <th>Regiao</th>\n",
              "    </tr>\n",
              "  </thead>\n",
              "  <tbody>\n",
              "    <tr>\n",
              "      <th>0</th>\n",
              "      <td>1</td>\n",
              "      <td>solteiro</td>\n",
              "      <td>1o Grau</td>\n",
              "      <td>NaN</td>\n",
              "      <td>4.00</td>\n",
              "      <td>26</td>\n",
              "      <td>3</td>\n",
              "      <td>interior</td>\n",
              "    </tr>\n",
              "    <tr>\n",
              "      <th>1</th>\n",
              "      <td>2</td>\n",
              "      <td>casado</td>\n",
              "      <td>1o Grau</td>\n",
              "      <td>1.0</td>\n",
              "      <td>4.56</td>\n",
              "      <td>32</td>\n",
              "      <td>10</td>\n",
              "      <td>capital</td>\n",
              "    </tr>\n",
              "    <tr>\n",
              "      <th>2</th>\n",
              "      <td>3</td>\n",
              "      <td>casado</td>\n",
              "      <td>1o Grau</td>\n",
              "      <td>2.0</td>\n",
              "      <td>5.25</td>\n",
              "      <td>36</td>\n",
              "      <td>5</td>\n",
              "      <td>capital</td>\n",
              "    </tr>\n",
              "    <tr>\n",
              "      <th>3</th>\n",
              "      <td>4</td>\n",
              "      <td>solteiro</td>\n",
              "      <td>2o Grau</td>\n",
              "      <td>NaN</td>\n",
              "      <td>5.73</td>\n",
              "      <td>20</td>\n",
              "      <td>10</td>\n",
              "      <td>outro</td>\n",
              "    </tr>\n",
              "    <tr>\n",
              "      <th>4</th>\n",
              "      <td>5</td>\n",
              "      <td>solteiro</td>\n",
              "      <td>1o Grau</td>\n",
              "      <td>NaN</td>\n",
              "      <td>6.26</td>\n",
              "      <td>40</td>\n",
              "      <td>7</td>\n",
              "      <td>outro</td>\n",
              "    </tr>\n",
              "    <tr>\n",
              "      <th>5</th>\n",
              "      <td>6</td>\n",
              "      <td>casado</td>\n",
              "      <td>1o Grau</td>\n",
              "      <td>0.0</td>\n",
              "      <td>6.66</td>\n",
              "      <td>28</td>\n",
              "      <td>0</td>\n",
              "      <td>interior</td>\n",
              "    </tr>\n",
              "    <tr>\n",
              "      <th>6</th>\n",
              "      <td>7</td>\n",
              "      <td>solteiro</td>\n",
              "      <td>1o Grau</td>\n",
              "      <td>NaN</td>\n",
              "      <td>6.86</td>\n",
              "      <td>41</td>\n",
              "      <td>0</td>\n",
              "      <td>interior</td>\n",
              "    </tr>\n",
              "    <tr>\n",
              "      <th>7</th>\n",
              "      <td>8</td>\n",
              "      <td>solteiro</td>\n",
              "      <td>1o Grau</td>\n",
              "      <td>NaN</td>\n",
              "      <td>7.39</td>\n",
              "      <td>43</td>\n",
              "      <td>4</td>\n",
              "      <td>capital</td>\n",
              "    </tr>\n",
              "    <tr>\n",
              "      <th>8</th>\n",
              "      <td>9</td>\n",
              "      <td>casado</td>\n",
              "      <td>2o Grau</td>\n",
              "      <td>1.0</td>\n",
              "      <td>7.59</td>\n",
              "      <td>34</td>\n",
              "      <td>10</td>\n",
              "      <td>capital</td>\n",
              "    </tr>\n",
              "    <tr>\n",
              "      <th>9</th>\n",
              "      <td>10</td>\n",
              "      <td>solteiro</td>\n",
              "      <td>2o Grau</td>\n",
              "      <td>NaN</td>\n",
              "      <td>7.44</td>\n",
              "      <td>23</td>\n",
              "      <td>6</td>\n",
              "      <td>outro</td>\n",
              "    </tr>\n",
              "    <tr>\n",
              "      <th>10</th>\n",
              "      <td>11</td>\n",
              "      <td>casado</td>\n",
              "      <td>2o Grau</td>\n",
              "      <td>2.0</td>\n",
              "      <td>8.12</td>\n",
              "      <td>33</td>\n",
              "      <td>6</td>\n",
              "      <td>interior</td>\n",
              "    </tr>\n",
              "    <tr>\n",
              "      <th>11</th>\n",
              "      <td>12</td>\n",
              "      <td>solteiro</td>\n",
              "      <td>1o Grau</td>\n",
              "      <td>NaN</td>\n",
              "      <td>8.46</td>\n",
              "      <td>27</td>\n",
              "      <td>11</td>\n",
              "      <td>capital</td>\n",
              "    </tr>\n",
              "    <tr>\n",
              "      <th>12</th>\n",
              "      <td>13</td>\n",
              "      <td>solteiro</td>\n",
              "      <td>2o Grau</td>\n",
              "      <td>NaN</td>\n",
              "      <td>8.74</td>\n",
              "      <td>37</td>\n",
              "      <td>5</td>\n",
              "      <td>outro</td>\n",
              "    </tr>\n",
              "    <tr>\n",
              "      <th>13</th>\n",
              "      <td>14</td>\n",
              "      <td>casado</td>\n",
              "      <td>1o Grau</td>\n",
              "      <td>3.0</td>\n",
              "      <td>8.95</td>\n",
              "      <td>44</td>\n",
              "      <td>2</td>\n",
              "      <td>outro</td>\n",
              "    </tr>\n",
              "    <tr>\n",
              "      <th>14</th>\n",
              "      <td>15</td>\n",
              "      <td>casado</td>\n",
              "      <td>2o Grau</td>\n",
              "      <td>0.0</td>\n",
              "      <td>9.13</td>\n",
              "      <td>30</td>\n",
              "      <td>5</td>\n",
              "      <td>interior</td>\n",
              "    </tr>\n",
              "    <tr>\n",
              "      <th>15</th>\n",
              "      <td>16</td>\n",
              "      <td>solteiro</td>\n",
              "      <td>2o Grau</td>\n",
              "      <td>NaN</td>\n",
              "      <td>9.35</td>\n",
              "      <td>38</td>\n",
              "      <td>8</td>\n",
              "      <td>outro</td>\n",
              "    </tr>\n",
              "    <tr>\n",
              "      <th>16</th>\n",
              "      <td>17</td>\n",
              "      <td>casado</td>\n",
              "      <td>2o Grau</td>\n",
              "      <td>1.0</td>\n",
              "      <td>9.77</td>\n",
              "      <td>31</td>\n",
              "      <td>7</td>\n",
              "      <td>capital</td>\n",
              "    </tr>\n",
              "    <tr>\n",
              "      <th>17</th>\n",
              "      <td>18</td>\n",
              "      <td>casado</td>\n",
              "      <td>1o Grau</td>\n",
              "      <td>2.0</td>\n",
              "      <td>9.80</td>\n",
              "      <td>39</td>\n",
              "      <td>7</td>\n",
              "      <td>outro</td>\n",
              "    </tr>\n",
              "    <tr>\n",
              "      <th>18</th>\n",
              "      <td>19</td>\n",
              "      <td>solteiro</td>\n",
              "      <td>Superior</td>\n",
              "      <td>NaN</td>\n",
              "      <td>10.53</td>\n",
              "      <td>25</td>\n",
              "      <td>8</td>\n",
              "      <td>interior</td>\n",
              "    </tr>\n",
              "    <tr>\n",
              "      <th>19</th>\n",
              "      <td>20</td>\n",
              "      <td>solteiro</td>\n",
              "      <td>2o Grau</td>\n",
              "      <td>NaN</td>\n",
              "      <td>10.76</td>\n",
              "      <td>37</td>\n",
              "      <td>4</td>\n",
              "      <td>interior</td>\n",
              "    </tr>\n",
              "    <tr>\n",
              "      <th>20</th>\n",
              "      <td>21</td>\n",
              "      <td>casado</td>\n",
              "      <td>2o Grau</td>\n",
              "      <td>1.0</td>\n",
              "      <td>11.06</td>\n",
              "      <td>30</td>\n",
              "      <td>9</td>\n",
              "      <td>outro</td>\n",
              "    </tr>\n",
              "    <tr>\n",
              "      <th>21</th>\n",
              "      <td>22</td>\n",
              "      <td>solteiro</td>\n",
              "      <td>2o Grau</td>\n",
              "      <td>NaN</td>\n",
              "      <td>11.59</td>\n",
              "      <td>34</td>\n",
              "      <td>2</td>\n",
              "      <td>capital</td>\n",
              "    </tr>\n",
              "    <tr>\n",
              "      <th>22</th>\n",
              "      <td>23</td>\n",
              "      <td>solteiro</td>\n",
              "      <td>1o Grau</td>\n",
              "      <td>NaN</td>\n",
              "      <td>12.00</td>\n",
              "      <td>41</td>\n",
              "      <td>0</td>\n",
              "      <td>outro</td>\n",
              "    </tr>\n",
              "    <tr>\n",
              "      <th>23</th>\n",
              "      <td>24</td>\n",
              "      <td>casado</td>\n",
              "      <td>Superior</td>\n",
              "      <td>0.0</td>\n",
              "      <td>12.79</td>\n",
              "      <td>26</td>\n",
              "      <td>1</td>\n",
              "      <td>outro</td>\n",
              "    </tr>\n",
              "    <tr>\n",
              "      <th>24</th>\n",
              "      <td>25</td>\n",
              "      <td>casado</td>\n",
              "      <td>2o Grau</td>\n",
              "      <td>2.0</td>\n",
              "      <td>13.23</td>\n",
              "      <td>32</td>\n",
              "      <td>5</td>\n",
              "      <td>interior</td>\n",
              "    </tr>\n",
              "    <tr>\n",
              "      <th>25</th>\n",
              "      <td>26</td>\n",
              "      <td>casado</td>\n",
              "      <td>2o Grau</td>\n",
              "      <td>2.0</td>\n",
              "      <td>13.60</td>\n",
              "      <td>35</td>\n",
              "      <td>0</td>\n",
              "      <td>outro</td>\n",
              "    </tr>\n",
              "    <tr>\n",
              "      <th>26</th>\n",
              "      <td>27</td>\n",
              "      <td>solteiro</td>\n",
              "      <td>1o Grau</td>\n",
              "      <td>NaN</td>\n",
              "      <td>13.85</td>\n",
              "      <td>46</td>\n",
              "      <td>7</td>\n",
              "      <td>outro</td>\n",
              "    </tr>\n",
              "    <tr>\n",
              "      <th>27</th>\n",
              "      <td>28</td>\n",
              "      <td>casado</td>\n",
              "      <td>2o Grau</td>\n",
              "      <td>0.0</td>\n",
              "      <td>14.69</td>\n",
              "      <td>29</td>\n",
              "      <td>8</td>\n",
              "      <td>interior</td>\n",
              "    </tr>\n",
              "    <tr>\n",
              "      <th>28</th>\n",
              "      <td>29</td>\n",
              "      <td>casado</td>\n",
              "      <td>2o Grau</td>\n",
              "      <td>5.0</td>\n",
              "      <td>14.71</td>\n",
              "      <td>40</td>\n",
              "      <td>6</td>\n",
              "      <td>interior</td>\n",
              "    </tr>\n",
              "    <tr>\n",
              "      <th>29</th>\n",
              "      <td>30</td>\n",
              "      <td>casado</td>\n",
              "      <td>2o Grau</td>\n",
              "      <td>2.0</td>\n",
              "      <td>15.99</td>\n",
              "      <td>35</td>\n",
              "      <td>10</td>\n",
              "      <td>capital</td>\n",
              "    </tr>\n",
              "    <tr>\n",
              "      <th>30</th>\n",
              "      <td>31</td>\n",
              "      <td>solteiro</td>\n",
              "      <td>Superior</td>\n",
              "      <td>NaN</td>\n",
              "      <td>16.22</td>\n",
              "      <td>31</td>\n",
              "      <td>5</td>\n",
              "      <td>outro</td>\n",
              "    </tr>\n",
              "    <tr>\n",
              "      <th>31</th>\n",
              "      <td>32</td>\n",
              "      <td>casado</td>\n",
              "      <td>2o Grau</td>\n",
              "      <td>1.0</td>\n",
              "      <td>16.61</td>\n",
              "      <td>36</td>\n",
              "      <td>4</td>\n",
              "      <td>interior</td>\n",
              "    </tr>\n",
              "    <tr>\n",
              "      <th>32</th>\n",
              "      <td>33</td>\n",
              "      <td>casado</td>\n",
              "      <td>Superior</td>\n",
              "      <td>3.0</td>\n",
              "      <td>17.26</td>\n",
              "      <td>43</td>\n",
              "      <td>7</td>\n",
              "      <td>capital</td>\n",
              "    </tr>\n",
              "    <tr>\n",
              "      <th>33</th>\n",
              "      <td>34</td>\n",
              "      <td>solteiro</td>\n",
              "      <td>Superior</td>\n",
              "      <td>NaN</td>\n",
              "      <td>18.75</td>\n",
              "      <td>33</td>\n",
              "      <td>7</td>\n",
              "      <td>capital</td>\n",
              "    </tr>\n",
              "    <tr>\n",
              "      <th>34</th>\n",
              "      <td>35</td>\n",
              "      <td>casado</td>\n",
              "      <td>2o Grau</td>\n",
              "      <td>2.0</td>\n",
              "      <td>19.40</td>\n",
              "      <td>48</td>\n",
              "      <td>11</td>\n",
              "      <td>capital</td>\n",
              "    </tr>\n",
              "    <tr>\n",
              "      <th>35</th>\n",
              "      <td>36</td>\n",
              "      <td>casado</td>\n",
              "      <td>Superior</td>\n",
              "      <td>3.0</td>\n",
              "      <td>23.30</td>\n",
              "      <td>42</td>\n",
              "      <td>2</td>\n",
              "      <td>interior</td>\n",
              "    </tr>\n",
              "  </tbody>\n",
              "</table>\n",
              "</div>"
            ],
            "text/plain": [
              "    Funcionario Est.civil      Inst  Filhos  Salario  Anos  Meses    Regiao\n",
              "0             1  solteiro   1o Grau     NaN     4.00    26      3  interior\n",
              "1             2    casado   1o Grau     1.0     4.56    32     10   capital\n",
              "2             3    casado   1o Grau     2.0     5.25    36      5   capital\n",
              "3             4  solteiro   2o Grau     NaN     5.73    20     10     outro\n",
              "4             5  solteiro   1o Grau     NaN     6.26    40      7     outro\n",
              "5             6    casado   1o Grau     0.0     6.66    28      0  interior\n",
              "6             7  solteiro   1o Grau     NaN     6.86    41      0  interior\n",
              "7             8  solteiro   1o Grau     NaN     7.39    43      4   capital\n",
              "8             9    casado   2o Grau     1.0     7.59    34     10   capital\n",
              "9            10  solteiro   2o Grau     NaN     7.44    23      6     outro\n",
              "10           11    casado   2o Grau     2.0     8.12    33      6  interior\n",
              "11           12  solteiro   1o Grau     NaN     8.46    27     11   capital\n",
              "12           13  solteiro   2o Grau     NaN     8.74    37      5     outro\n",
              "13           14    casado   1o Grau     3.0     8.95    44      2     outro\n",
              "14           15    casado   2o Grau     0.0     9.13    30      5  interior\n",
              "15           16  solteiro   2o Grau     NaN     9.35    38      8     outro\n",
              "16           17    casado   2o Grau     1.0     9.77    31      7   capital\n",
              "17           18    casado   1o Grau     2.0     9.80    39      7     outro\n",
              "18           19  solteiro  Superior     NaN    10.53    25      8  interior\n",
              "19           20  solteiro   2o Grau     NaN    10.76    37      4  interior\n",
              "20           21    casado   2o Grau     1.0    11.06    30      9     outro\n",
              "21           22  solteiro   2o Grau     NaN    11.59    34      2   capital\n",
              "22           23  solteiro   1o Grau     NaN    12.00    41      0     outro\n",
              "23           24    casado  Superior     0.0    12.79    26      1     outro\n",
              "24           25    casado   2o Grau     2.0    13.23    32      5  interior\n",
              "25           26    casado   2o Grau     2.0    13.60    35      0     outro\n",
              "26           27  solteiro   1o Grau     NaN    13.85    46      7     outro\n",
              "27           28    casado   2o Grau     0.0    14.69    29      8  interior\n",
              "28           29    casado   2o Grau     5.0    14.71    40      6  interior\n",
              "29           30    casado   2o Grau     2.0    15.99    35     10   capital\n",
              "30           31  solteiro  Superior     NaN    16.22    31      5     outro\n",
              "31           32    casado   2o Grau     1.0    16.61    36      4  interior\n",
              "32           33    casado  Superior     3.0    17.26    43      7   capital\n",
              "33           34  solteiro  Superior     NaN    18.75    33      7   capital\n",
              "34           35    casado   2o Grau     2.0    19.40    48     11   capital\n",
              "35           36    casado  Superior     3.0    23.30    42      2  interior"
            ]
          },
          "metadata": {
            "tags": []
          },
          "execution_count": 4
        }
      ]
    },
    {
      "cell_type": "code",
      "metadata": {
        "colab": {
          "base_uri": "https://localhost:8080/",
          "height": 1000
        },
        "id": "awGgz4qGYbvj",
        "outputId": "a8f14684-5788-465d-f670-eed1deb1e8a0"
      },
      "source": [
        "#Ordenando a variável Inst de acordo com os níveis de Grau de Instrução\n",
        "dados.sort_values(by = 'Inst', ascending = True)"
      ],
      "execution_count": 5,
      "outputs": [
        {
          "output_type": "execute_result",
          "data": {
            "text/html": [
              "<div>\n",
              "<style scoped>\n",
              "    .dataframe tbody tr th:only-of-type {\n",
              "        vertical-align: middle;\n",
              "    }\n",
              "\n",
              "    .dataframe tbody tr th {\n",
              "        vertical-align: top;\n",
              "    }\n",
              "\n",
              "    .dataframe thead th {\n",
              "        text-align: right;\n",
              "    }\n",
              "</style>\n",
              "<table border=\"1\" class=\"dataframe\">\n",
              "  <thead>\n",
              "    <tr style=\"text-align: right;\">\n",
              "      <th></th>\n",
              "      <th>Funcionario</th>\n",
              "      <th>Est.civil</th>\n",
              "      <th>Inst</th>\n",
              "      <th>Filhos</th>\n",
              "      <th>Salario</th>\n",
              "      <th>Anos</th>\n",
              "      <th>Meses</th>\n",
              "      <th>Regiao</th>\n",
              "    </tr>\n",
              "  </thead>\n",
              "  <tbody>\n",
              "    <tr>\n",
              "      <th>0</th>\n",
              "      <td>1</td>\n",
              "      <td>solteiro</td>\n",
              "      <td>1o Grau</td>\n",
              "      <td>NaN</td>\n",
              "      <td>4.00</td>\n",
              "      <td>26</td>\n",
              "      <td>3</td>\n",
              "      <td>interior</td>\n",
              "    </tr>\n",
              "    <tr>\n",
              "      <th>26</th>\n",
              "      <td>27</td>\n",
              "      <td>solteiro</td>\n",
              "      <td>1o Grau</td>\n",
              "      <td>NaN</td>\n",
              "      <td>13.85</td>\n",
              "      <td>46</td>\n",
              "      <td>7</td>\n",
              "      <td>outro</td>\n",
              "    </tr>\n",
              "    <tr>\n",
              "      <th>22</th>\n",
              "      <td>23</td>\n",
              "      <td>solteiro</td>\n",
              "      <td>1o Grau</td>\n",
              "      <td>NaN</td>\n",
              "      <td>12.00</td>\n",
              "      <td>41</td>\n",
              "      <td>0</td>\n",
              "      <td>outro</td>\n",
              "    </tr>\n",
              "    <tr>\n",
              "      <th>13</th>\n",
              "      <td>14</td>\n",
              "      <td>casado</td>\n",
              "      <td>1o Grau</td>\n",
              "      <td>3.0</td>\n",
              "      <td>8.95</td>\n",
              "      <td>44</td>\n",
              "      <td>2</td>\n",
              "      <td>outro</td>\n",
              "    </tr>\n",
              "    <tr>\n",
              "      <th>11</th>\n",
              "      <td>12</td>\n",
              "      <td>solteiro</td>\n",
              "      <td>1o Grau</td>\n",
              "      <td>NaN</td>\n",
              "      <td>8.46</td>\n",
              "      <td>27</td>\n",
              "      <td>11</td>\n",
              "      <td>capital</td>\n",
              "    </tr>\n",
              "    <tr>\n",
              "      <th>7</th>\n",
              "      <td>8</td>\n",
              "      <td>solteiro</td>\n",
              "      <td>1o Grau</td>\n",
              "      <td>NaN</td>\n",
              "      <td>7.39</td>\n",
              "      <td>43</td>\n",
              "      <td>4</td>\n",
              "      <td>capital</td>\n",
              "    </tr>\n",
              "    <tr>\n",
              "      <th>17</th>\n",
              "      <td>18</td>\n",
              "      <td>casado</td>\n",
              "      <td>1o Grau</td>\n",
              "      <td>2.0</td>\n",
              "      <td>9.80</td>\n",
              "      <td>39</td>\n",
              "      <td>7</td>\n",
              "      <td>outro</td>\n",
              "    </tr>\n",
              "    <tr>\n",
              "      <th>5</th>\n",
              "      <td>6</td>\n",
              "      <td>casado</td>\n",
              "      <td>1o Grau</td>\n",
              "      <td>0.0</td>\n",
              "      <td>6.66</td>\n",
              "      <td>28</td>\n",
              "      <td>0</td>\n",
              "      <td>interior</td>\n",
              "    </tr>\n",
              "    <tr>\n",
              "      <th>4</th>\n",
              "      <td>5</td>\n",
              "      <td>solteiro</td>\n",
              "      <td>1o Grau</td>\n",
              "      <td>NaN</td>\n",
              "      <td>6.26</td>\n",
              "      <td>40</td>\n",
              "      <td>7</td>\n",
              "      <td>outro</td>\n",
              "    </tr>\n",
              "    <tr>\n",
              "      <th>1</th>\n",
              "      <td>2</td>\n",
              "      <td>casado</td>\n",
              "      <td>1o Grau</td>\n",
              "      <td>1.0</td>\n",
              "      <td>4.56</td>\n",
              "      <td>32</td>\n",
              "      <td>10</td>\n",
              "      <td>capital</td>\n",
              "    </tr>\n",
              "    <tr>\n",
              "      <th>2</th>\n",
              "      <td>3</td>\n",
              "      <td>casado</td>\n",
              "      <td>1o Grau</td>\n",
              "      <td>2.0</td>\n",
              "      <td>5.25</td>\n",
              "      <td>36</td>\n",
              "      <td>5</td>\n",
              "      <td>capital</td>\n",
              "    </tr>\n",
              "    <tr>\n",
              "      <th>6</th>\n",
              "      <td>7</td>\n",
              "      <td>solteiro</td>\n",
              "      <td>1o Grau</td>\n",
              "      <td>NaN</td>\n",
              "      <td>6.86</td>\n",
              "      <td>41</td>\n",
              "      <td>0</td>\n",
              "      <td>interior</td>\n",
              "    </tr>\n",
              "    <tr>\n",
              "      <th>31</th>\n",
              "      <td>32</td>\n",
              "      <td>casado</td>\n",
              "      <td>2o Grau</td>\n",
              "      <td>1.0</td>\n",
              "      <td>16.61</td>\n",
              "      <td>36</td>\n",
              "      <td>4</td>\n",
              "      <td>interior</td>\n",
              "    </tr>\n",
              "    <tr>\n",
              "      <th>29</th>\n",
              "      <td>30</td>\n",
              "      <td>casado</td>\n",
              "      <td>2o Grau</td>\n",
              "      <td>2.0</td>\n",
              "      <td>15.99</td>\n",
              "      <td>35</td>\n",
              "      <td>10</td>\n",
              "      <td>capital</td>\n",
              "    </tr>\n",
              "    <tr>\n",
              "      <th>28</th>\n",
              "      <td>29</td>\n",
              "      <td>casado</td>\n",
              "      <td>2o Grau</td>\n",
              "      <td>5.0</td>\n",
              "      <td>14.71</td>\n",
              "      <td>40</td>\n",
              "      <td>6</td>\n",
              "      <td>interior</td>\n",
              "    </tr>\n",
              "    <tr>\n",
              "      <th>27</th>\n",
              "      <td>28</td>\n",
              "      <td>casado</td>\n",
              "      <td>2o Grau</td>\n",
              "      <td>0.0</td>\n",
              "      <td>14.69</td>\n",
              "      <td>29</td>\n",
              "      <td>8</td>\n",
              "      <td>interior</td>\n",
              "    </tr>\n",
              "    <tr>\n",
              "      <th>25</th>\n",
              "      <td>26</td>\n",
              "      <td>casado</td>\n",
              "      <td>2o Grau</td>\n",
              "      <td>2.0</td>\n",
              "      <td>13.60</td>\n",
              "      <td>35</td>\n",
              "      <td>0</td>\n",
              "      <td>outro</td>\n",
              "    </tr>\n",
              "    <tr>\n",
              "      <th>24</th>\n",
              "      <td>25</td>\n",
              "      <td>casado</td>\n",
              "      <td>2o Grau</td>\n",
              "      <td>2.0</td>\n",
              "      <td>13.23</td>\n",
              "      <td>32</td>\n",
              "      <td>5</td>\n",
              "      <td>interior</td>\n",
              "    </tr>\n",
              "    <tr>\n",
              "      <th>20</th>\n",
              "      <td>21</td>\n",
              "      <td>casado</td>\n",
              "      <td>2o Grau</td>\n",
              "      <td>1.0</td>\n",
              "      <td>11.06</td>\n",
              "      <td>30</td>\n",
              "      <td>9</td>\n",
              "      <td>outro</td>\n",
              "    </tr>\n",
              "    <tr>\n",
              "      <th>21</th>\n",
              "      <td>22</td>\n",
              "      <td>solteiro</td>\n",
              "      <td>2o Grau</td>\n",
              "      <td>NaN</td>\n",
              "      <td>11.59</td>\n",
              "      <td>34</td>\n",
              "      <td>2</td>\n",
              "      <td>capital</td>\n",
              "    </tr>\n",
              "    <tr>\n",
              "      <th>34</th>\n",
              "      <td>35</td>\n",
              "      <td>casado</td>\n",
              "      <td>2o Grau</td>\n",
              "      <td>2.0</td>\n",
              "      <td>19.40</td>\n",
              "      <td>48</td>\n",
              "      <td>11</td>\n",
              "      <td>capital</td>\n",
              "    </tr>\n",
              "    <tr>\n",
              "      <th>16</th>\n",
              "      <td>17</td>\n",
              "      <td>casado</td>\n",
              "      <td>2o Grau</td>\n",
              "      <td>1.0</td>\n",
              "      <td>9.77</td>\n",
              "      <td>31</td>\n",
              "      <td>7</td>\n",
              "      <td>capital</td>\n",
              "    </tr>\n",
              "    <tr>\n",
              "      <th>15</th>\n",
              "      <td>16</td>\n",
              "      <td>solteiro</td>\n",
              "      <td>2o Grau</td>\n",
              "      <td>NaN</td>\n",
              "      <td>9.35</td>\n",
              "      <td>38</td>\n",
              "      <td>8</td>\n",
              "      <td>outro</td>\n",
              "    </tr>\n",
              "    <tr>\n",
              "      <th>14</th>\n",
              "      <td>15</td>\n",
              "      <td>casado</td>\n",
              "      <td>2o Grau</td>\n",
              "      <td>0.0</td>\n",
              "      <td>9.13</td>\n",
              "      <td>30</td>\n",
              "      <td>5</td>\n",
              "      <td>interior</td>\n",
              "    </tr>\n",
              "    <tr>\n",
              "      <th>3</th>\n",
              "      <td>4</td>\n",
              "      <td>solteiro</td>\n",
              "      <td>2o Grau</td>\n",
              "      <td>NaN</td>\n",
              "      <td>5.73</td>\n",
              "      <td>20</td>\n",
              "      <td>10</td>\n",
              "      <td>outro</td>\n",
              "    </tr>\n",
              "    <tr>\n",
              "      <th>12</th>\n",
              "      <td>13</td>\n",
              "      <td>solteiro</td>\n",
              "      <td>2o Grau</td>\n",
              "      <td>NaN</td>\n",
              "      <td>8.74</td>\n",
              "      <td>37</td>\n",
              "      <td>5</td>\n",
              "      <td>outro</td>\n",
              "    </tr>\n",
              "    <tr>\n",
              "      <th>10</th>\n",
              "      <td>11</td>\n",
              "      <td>casado</td>\n",
              "      <td>2o Grau</td>\n",
              "      <td>2.0</td>\n",
              "      <td>8.12</td>\n",
              "      <td>33</td>\n",
              "      <td>6</td>\n",
              "      <td>interior</td>\n",
              "    </tr>\n",
              "    <tr>\n",
              "      <th>9</th>\n",
              "      <td>10</td>\n",
              "      <td>solteiro</td>\n",
              "      <td>2o Grau</td>\n",
              "      <td>NaN</td>\n",
              "      <td>7.44</td>\n",
              "      <td>23</td>\n",
              "      <td>6</td>\n",
              "      <td>outro</td>\n",
              "    </tr>\n",
              "    <tr>\n",
              "      <th>8</th>\n",
              "      <td>9</td>\n",
              "      <td>casado</td>\n",
              "      <td>2o Grau</td>\n",
              "      <td>1.0</td>\n",
              "      <td>7.59</td>\n",
              "      <td>34</td>\n",
              "      <td>10</td>\n",
              "      <td>capital</td>\n",
              "    </tr>\n",
              "    <tr>\n",
              "      <th>19</th>\n",
              "      <td>20</td>\n",
              "      <td>solteiro</td>\n",
              "      <td>2o Grau</td>\n",
              "      <td>NaN</td>\n",
              "      <td>10.76</td>\n",
              "      <td>37</td>\n",
              "      <td>4</td>\n",
              "      <td>interior</td>\n",
              "    </tr>\n",
              "    <tr>\n",
              "      <th>18</th>\n",
              "      <td>19</td>\n",
              "      <td>solteiro</td>\n",
              "      <td>Superior</td>\n",
              "      <td>NaN</td>\n",
              "      <td>10.53</td>\n",
              "      <td>25</td>\n",
              "      <td>8</td>\n",
              "      <td>interior</td>\n",
              "    </tr>\n",
              "    <tr>\n",
              "      <th>23</th>\n",
              "      <td>24</td>\n",
              "      <td>casado</td>\n",
              "      <td>Superior</td>\n",
              "      <td>0.0</td>\n",
              "      <td>12.79</td>\n",
              "      <td>26</td>\n",
              "      <td>1</td>\n",
              "      <td>outro</td>\n",
              "    </tr>\n",
              "    <tr>\n",
              "      <th>30</th>\n",
              "      <td>31</td>\n",
              "      <td>solteiro</td>\n",
              "      <td>Superior</td>\n",
              "      <td>NaN</td>\n",
              "      <td>16.22</td>\n",
              "      <td>31</td>\n",
              "      <td>5</td>\n",
              "      <td>outro</td>\n",
              "    </tr>\n",
              "    <tr>\n",
              "      <th>32</th>\n",
              "      <td>33</td>\n",
              "      <td>casado</td>\n",
              "      <td>Superior</td>\n",
              "      <td>3.0</td>\n",
              "      <td>17.26</td>\n",
              "      <td>43</td>\n",
              "      <td>7</td>\n",
              "      <td>capital</td>\n",
              "    </tr>\n",
              "    <tr>\n",
              "      <th>33</th>\n",
              "      <td>34</td>\n",
              "      <td>solteiro</td>\n",
              "      <td>Superior</td>\n",
              "      <td>NaN</td>\n",
              "      <td>18.75</td>\n",
              "      <td>33</td>\n",
              "      <td>7</td>\n",
              "      <td>capital</td>\n",
              "    </tr>\n",
              "    <tr>\n",
              "      <th>35</th>\n",
              "      <td>36</td>\n",
              "      <td>casado</td>\n",
              "      <td>Superior</td>\n",
              "      <td>3.0</td>\n",
              "      <td>23.30</td>\n",
              "      <td>42</td>\n",
              "      <td>2</td>\n",
              "      <td>interior</td>\n",
              "    </tr>\n",
              "  </tbody>\n",
              "</table>\n",
              "</div>"
            ],
            "text/plain": [
              "    Funcionario Est.civil      Inst  Filhos  Salario  Anos  Meses    Regiao\n",
              "0             1  solteiro   1o Grau     NaN     4.00    26      3  interior\n",
              "26           27  solteiro   1o Grau     NaN    13.85    46      7     outro\n",
              "22           23  solteiro   1o Grau     NaN    12.00    41      0     outro\n",
              "13           14    casado   1o Grau     3.0     8.95    44      2     outro\n",
              "11           12  solteiro   1o Grau     NaN     8.46    27     11   capital\n",
              "7             8  solteiro   1o Grau     NaN     7.39    43      4   capital\n",
              "17           18    casado   1o Grau     2.0     9.80    39      7     outro\n",
              "5             6    casado   1o Grau     0.0     6.66    28      0  interior\n",
              "4             5  solteiro   1o Grau     NaN     6.26    40      7     outro\n",
              "1             2    casado   1o Grau     1.0     4.56    32     10   capital\n",
              "2             3    casado   1o Grau     2.0     5.25    36      5   capital\n",
              "6             7  solteiro   1o Grau     NaN     6.86    41      0  interior\n",
              "31           32    casado   2o Grau     1.0    16.61    36      4  interior\n",
              "29           30    casado   2o Grau     2.0    15.99    35     10   capital\n",
              "28           29    casado   2o Grau     5.0    14.71    40      6  interior\n",
              "27           28    casado   2o Grau     0.0    14.69    29      8  interior\n",
              "25           26    casado   2o Grau     2.0    13.60    35      0     outro\n",
              "24           25    casado   2o Grau     2.0    13.23    32      5  interior\n",
              "20           21    casado   2o Grau     1.0    11.06    30      9     outro\n",
              "21           22  solteiro   2o Grau     NaN    11.59    34      2   capital\n",
              "34           35    casado   2o Grau     2.0    19.40    48     11   capital\n",
              "16           17    casado   2o Grau     1.0     9.77    31      7   capital\n",
              "15           16  solteiro   2o Grau     NaN     9.35    38      8     outro\n",
              "14           15    casado   2o Grau     0.0     9.13    30      5  interior\n",
              "3             4  solteiro   2o Grau     NaN     5.73    20     10     outro\n",
              "12           13  solteiro   2o Grau     NaN     8.74    37      5     outro\n",
              "10           11    casado   2o Grau     2.0     8.12    33      6  interior\n",
              "9            10  solteiro   2o Grau     NaN     7.44    23      6     outro\n",
              "8             9    casado   2o Grau     1.0     7.59    34     10   capital\n",
              "19           20  solteiro   2o Grau     NaN    10.76    37      4  interior\n",
              "18           19  solteiro  Superior     NaN    10.53    25      8  interior\n",
              "23           24    casado  Superior     0.0    12.79    26      1     outro\n",
              "30           31  solteiro  Superior     NaN    16.22    31      5     outro\n",
              "32           33    casado  Superior     3.0    17.26    43      7   capital\n",
              "33           34  solteiro  Superior     NaN    18.75    33      7   capital\n",
              "35           36    casado  Superior     3.0    23.30    42      2  interior"
            ]
          },
          "metadata": {
            "tags": []
          },
          "execution_count": 5
        }
      ]
    },
    {
      "cell_type": "code",
      "metadata": {
        "colab": {
          "base_uri": "https://localhost:8080/",
          "height": 1000
        },
        "id": "K2fOt9gNZkRM",
        "outputId": "ae717636-78d0-40f2-cbc9-7c7c8fb86bee"
      },
      "source": [
        "#Criando a variável Idade a partir das variáveis Anos e Meses\n",
        "a = dados['Anos']\n",
        "m = dados['Meses']\n",
        "dados['Idade'] = (a + (m/12)).round(0)\n",
        "dados"
      ],
      "execution_count": 6,
      "outputs": [
        {
          "output_type": "execute_result",
          "data": {
            "text/html": [
              "<div>\n",
              "<style scoped>\n",
              "    .dataframe tbody tr th:only-of-type {\n",
              "        vertical-align: middle;\n",
              "    }\n",
              "\n",
              "    .dataframe tbody tr th {\n",
              "        vertical-align: top;\n",
              "    }\n",
              "\n",
              "    .dataframe thead th {\n",
              "        text-align: right;\n",
              "    }\n",
              "</style>\n",
              "<table border=\"1\" class=\"dataframe\">\n",
              "  <thead>\n",
              "    <tr style=\"text-align: right;\">\n",
              "      <th></th>\n",
              "      <th>Funcionario</th>\n",
              "      <th>Est.civil</th>\n",
              "      <th>Inst</th>\n",
              "      <th>Filhos</th>\n",
              "      <th>Salario</th>\n",
              "      <th>Anos</th>\n",
              "      <th>Meses</th>\n",
              "      <th>Regiao</th>\n",
              "      <th>Idade</th>\n",
              "    </tr>\n",
              "  </thead>\n",
              "  <tbody>\n",
              "    <tr>\n",
              "      <th>0</th>\n",
              "      <td>1</td>\n",
              "      <td>solteiro</td>\n",
              "      <td>1o Grau</td>\n",
              "      <td>NaN</td>\n",
              "      <td>4.00</td>\n",
              "      <td>26</td>\n",
              "      <td>3</td>\n",
              "      <td>interior</td>\n",
              "      <td>26.0</td>\n",
              "    </tr>\n",
              "    <tr>\n",
              "      <th>1</th>\n",
              "      <td>2</td>\n",
              "      <td>casado</td>\n",
              "      <td>1o Grau</td>\n",
              "      <td>1.0</td>\n",
              "      <td>4.56</td>\n",
              "      <td>32</td>\n",
              "      <td>10</td>\n",
              "      <td>capital</td>\n",
              "      <td>33.0</td>\n",
              "    </tr>\n",
              "    <tr>\n",
              "      <th>2</th>\n",
              "      <td>3</td>\n",
              "      <td>casado</td>\n",
              "      <td>1o Grau</td>\n",
              "      <td>2.0</td>\n",
              "      <td>5.25</td>\n",
              "      <td>36</td>\n",
              "      <td>5</td>\n",
              "      <td>capital</td>\n",
              "      <td>36.0</td>\n",
              "    </tr>\n",
              "    <tr>\n",
              "      <th>3</th>\n",
              "      <td>4</td>\n",
              "      <td>solteiro</td>\n",
              "      <td>2o Grau</td>\n",
              "      <td>NaN</td>\n",
              "      <td>5.73</td>\n",
              "      <td>20</td>\n",
              "      <td>10</td>\n",
              "      <td>outro</td>\n",
              "      <td>21.0</td>\n",
              "    </tr>\n",
              "    <tr>\n",
              "      <th>4</th>\n",
              "      <td>5</td>\n",
              "      <td>solteiro</td>\n",
              "      <td>1o Grau</td>\n",
              "      <td>NaN</td>\n",
              "      <td>6.26</td>\n",
              "      <td>40</td>\n",
              "      <td>7</td>\n",
              "      <td>outro</td>\n",
              "      <td>41.0</td>\n",
              "    </tr>\n",
              "    <tr>\n",
              "      <th>5</th>\n",
              "      <td>6</td>\n",
              "      <td>casado</td>\n",
              "      <td>1o Grau</td>\n",
              "      <td>0.0</td>\n",
              "      <td>6.66</td>\n",
              "      <td>28</td>\n",
              "      <td>0</td>\n",
              "      <td>interior</td>\n",
              "      <td>28.0</td>\n",
              "    </tr>\n",
              "    <tr>\n",
              "      <th>6</th>\n",
              "      <td>7</td>\n",
              "      <td>solteiro</td>\n",
              "      <td>1o Grau</td>\n",
              "      <td>NaN</td>\n",
              "      <td>6.86</td>\n",
              "      <td>41</td>\n",
              "      <td>0</td>\n",
              "      <td>interior</td>\n",
              "      <td>41.0</td>\n",
              "    </tr>\n",
              "    <tr>\n",
              "      <th>7</th>\n",
              "      <td>8</td>\n",
              "      <td>solteiro</td>\n",
              "      <td>1o Grau</td>\n",
              "      <td>NaN</td>\n",
              "      <td>7.39</td>\n",
              "      <td>43</td>\n",
              "      <td>4</td>\n",
              "      <td>capital</td>\n",
              "      <td>43.0</td>\n",
              "    </tr>\n",
              "    <tr>\n",
              "      <th>8</th>\n",
              "      <td>9</td>\n",
              "      <td>casado</td>\n",
              "      <td>2o Grau</td>\n",
              "      <td>1.0</td>\n",
              "      <td>7.59</td>\n",
              "      <td>34</td>\n",
              "      <td>10</td>\n",
              "      <td>capital</td>\n",
              "      <td>35.0</td>\n",
              "    </tr>\n",
              "    <tr>\n",
              "      <th>9</th>\n",
              "      <td>10</td>\n",
              "      <td>solteiro</td>\n",
              "      <td>2o Grau</td>\n",
              "      <td>NaN</td>\n",
              "      <td>7.44</td>\n",
              "      <td>23</td>\n",
              "      <td>6</td>\n",
              "      <td>outro</td>\n",
              "      <td>24.0</td>\n",
              "    </tr>\n",
              "    <tr>\n",
              "      <th>10</th>\n",
              "      <td>11</td>\n",
              "      <td>casado</td>\n",
              "      <td>2o Grau</td>\n",
              "      <td>2.0</td>\n",
              "      <td>8.12</td>\n",
              "      <td>33</td>\n",
              "      <td>6</td>\n",
              "      <td>interior</td>\n",
              "      <td>34.0</td>\n",
              "    </tr>\n",
              "    <tr>\n",
              "      <th>11</th>\n",
              "      <td>12</td>\n",
              "      <td>solteiro</td>\n",
              "      <td>1o Grau</td>\n",
              "      <td>NaN</td>\n",
              "      <td>8.46</td>\n",
              "      <td>27</td>\n",
              "      <td>11</td>\n",
              "      <td>capital</td>\n",
              "      <td>28.0</td>\n",
              "    </tr>\n",
              "    <tr>\n",
              "      <th>12</th>\n",
              "      <td>13</td>\n",
              "      <td>solteiro</td>\n",
              "      <td>2o Grau</td>\n",
              "      <td>NaN</td>\n",
              "      <td>8.74</td>\n",
              "      <td>37</td>\n",
              "      <td>5</td>\n",
              "      <td>outro</td>\n",
              "      <td>37.0</td>\n",
              "    </tr>\n",
              "    <tr>\n",
              "      <th>13</th>\n",
              "      <td>14</td>\n",
              "      <td>casado</td>\n",
              "      <td>1o Grau</td>\n",
              "      <td>3.0</td>\n",
              "      <td>8.95</td>\n",
              "      <td>44</td>\n",
              "      <td>2</td>\n",
              "      <td>outro</td>\n",
              "      <td>44.0</td>\n",
              "    </tr>\n",
              "    <tr>\n",
              "      <th>14</th>\n",
              "      <td>15</td>\n",
              "      <td>casado</td>\n",
              "      <td>2o Grau</td>\n",
              "      <td>0.0</td>\n",
              "      <td>9.13</td>\n",
              "      <td>30</td>\n",
              "      <td>5</td>\n",
              "      <td>interior</td>\n",
              "      <td>30.0</td>\n",
              "    </tr>\n",
              "    <tr>\n",
              "      <th>15</th>\n",
              "      <td>16</td>\n",
              "      <td>solteiro</td>\n",
              "      <td>2o Grau</td>\n",
              "      <td>NaN</td>\n",
              "      <td>9.35</td>\n",
              "      <td>38</td>\n",
              "      <td>8</td>\n",
              "      <td>outro</td>\n",
              "      <td>39.0</td>\n",
              "    </tr>\n",
              "    <tr>\n",
              "      <th>16</th>\n",
              "      <td>17</td>\n",
              "      <td>casado</td>\n",
              "      <td>2o Grau</td>\n",
              "      <td>1.0</td>\n",
              "      <td>9.77</td>\n",
              "      <td>31</td>\n",
              "      <td>7</td>\n",
              "      <td>capital</td>\n",
              "      <td>32.0</td>\n",
              "    </tr>\n",
              "    <tr>\n",
              "      <th>17</th>\n",
              "      <td>18</td>\n",
              "      <td>casado</td>\n",
              "      <td>1o Grau</td>\n",
              "      <td>2.0</td>\n",
              "      <td>9.80</td>\n",
              "      <td>39</td>\n",
              "      <td>7</td>\n",
              "      <td>outro</td>\n",
              "      <td>40.0</td>\n",
              "    </tr>\n",
              "    <tr>\n",
              "      <th>18</th>\n",
              "      <td>19</td>\n",
              "      <td>solteiro</td>\n",
              "      <td>Superior</td>\n",
              "      <td>NaN</td>\n",
              "      <td>10.53</td>\n",
              "      <td>25</td>\n",
              "      <td>8</td>\n",
              "      <td>interior</td>\n",
              "      <td>26.0</td>\n",
              "    </tr>\n",
              "    <tr>\n",
              "      <th>19</th>\n",
              "      <td>20</td>\n",
              "      <td>solteiro</td>\n",
              "      <td>2o Grau</td>\n",
              "      <td>NaN</td>\n",
              "      <td>10.76</td>\n",
              "      <td>37</td>\n",
              "      <td>4</td>\n",
              "      <td>interior</td>\n",
              "      <td>37.0</td>\n",
              "    </tr>\n",
              "    <tr>\n",
              "      <th>20</th>\n",
              "      <td>21</td>\n",
              "      <td>casado</td>\n",
              "      <td>2o Grau</td>\n",
              "      <td>1.0</td>\n",
              "      <td>11.06</td>\n",
              "      <td>30</td>\n",
              "      <td>9</td>\n",
              "      <td>outro</td>\n",
              "      <td>31.0</td>\n",
              "    </tr>\n",
              "    <tr>\n",
              "      <th>21</th>\n",
              "      <td>22</td>\n",
              "      <td>solteiro</td>\n",
              "      <td>2o Grau</td>\n",
              "      <td>NaN</td>\n",
              "      <td>11.59</td>\n",
              "      <td>34</td>\n",
              "      <td>2</td>\n",
              "      <td>capital</td>\n",
              "      <td>34.0</td>\n",
              "    </tr>\n",
              "    <tr>\n",
              "      <th>22</th>\n",
              "      <td>23</td>\n",
              "      <td>solteiro</td>\n",
              "      <td>1o Grau</td>\n",
              "      <td>NaN</td>\n",
              "      <td>12.00</td>\n",
              "      <td>41</td>\n",
              "      <td>0</td>\n",
              "      <td>outro</td>\n",
              "      <td>41.0</td>\n",
              "    </tr>\n",
              "    <tr>\n",
              "      <th>23</th>\n",
              "      <td>24</td>\n",
              "      <td>casado</td>\n",
              "      <td>Superior</td>\n",
              "      <td>0.0</td>\n",
              "      <td>12.79</td>\n",
              "      <td>26</td>\n",
              "      <td>1</td>\n",
              "      <td>outro</td>\n",
              "      <td>26.0</td>\n",
              "    </tr>\n",
              "    <tr>\n",
              "      <th>24</th>\n",
              "      <td>25</td>\n",
              "      <td>casado</td>\n",
              "      <td>2o Grau</td>\n",
              "      <td>2.0</td>\n",
              "      <td>13.23</td>\n",
              "      <td>32</td>\n",
              "      <td>5</td>\n",
              "      <td>interior</td>\n",
              "      <td>32.0</td>\n",
              "    </tr>\n",
              "    <tr>\n",
              "      <th>25</th>\n",
              "      <td>26</td>\n",
              "      <td>casado</td>\n",
              "      <td>2o Grau</td>\n",
              "      <td>2.0</td>\n",
              "      <td>13.60</td>\n",
              "      <td>35</td>\n",
              "      <td>0</td>\n",
              "      <td>outro</td>\n",
              "      <td>35.0</td>\n",
              "    </tr>\n",
              "    <tr>\n",
              "      <th>26</th>\n",
              "      <td>27</td>\n",
              "      <td>solteiro</td>\n",
              "      <td>1o Grau</td>\n",
              "      <td>NaN</td>\n",
              "      <td>13.85</td>\n",
              "      <td>46</td>\n",
              "      <td>7</td>\n",
              "      <td>outro</td>\n",
              "      <td>47.0</td>\n",
              "    </tr>\n",
              "    <tr>\n",
              "      <th>27</th>\n",
              "      <td>28</td>\n",
              "      <td>casado</td>\n",
              "      <td>2o Grau</td>\n",
              "      <td>0.0</td>\n",
              "      <td>14.69</td>\n",
              "      <td>29</td>\n",
              "      <td>8</td>\n",
              "      <td>interior</td>\n",
              "      <td>30.0</td>\n",
              "    </tr>\n",
              "    <tr>\n",
              "      <th>28</th>\n",
              "      <td>29</td>\n",
              "      <td>casado</td>\n",
              "      <td>2o Grau</td>\n",
              "      <td>5.0</td>\n",
              "      <td>14.71</td>\n",
              "      <td>40</td>\n",
              "      <td>6</td>\n",
              "      <td>interior</td>\n",
              "      <td>40.0</td>\n",
              "    </tr>\n",
              "    <tr>\n",
              "      <th>29</th>\n",
              "      <td>30</td>\n",
              "      <td>casado</td>\n",
              "      <td>2o Grau</td>\n",
              "      <td>2.0</td>\n",
              "      <td>15.99</td>\n",
              "      <td>35</td>\n",
              "      <td>10</td>\n",
              "      <td>capital</td>\n",
              "      <td>36.0</td>\n",
              "    </tr>\n",
              "    <tr>\n",
              "      <th>30</th>\n",
              "      <td>31</td>\n",
              "      <td>solteiro</td>\n",
              "      <td>Superior</td>\n",
              "      <td>NaN</td>\n",
              "      <td>16.22</td>\n",
              "      <td>31</td>\n",
              "      <td>5</td>\n",
              "      <td>outro</td>\n",
              "      <td>31.0</td>\n",
              "    </tr>\n",
              "    <tr>\n",
              "      <th>31</th>\n",
              "      <td>32</td>\n",
              "      <td>casado</td>\n",
              "      <td>2o Grau</td>\n",
              "      <td>1.0</td>\n",
              "      <td>16.61</td>\n",
              "      <td>36</td>\n",
              "      <td>4</td>\n",
              "      <td>interior</td>\n",
              "      <td>36.0</td>\n",
              "    </tr>\n",
              "    <tr>\n",
              "      <th>32</th>\n",
              "      <td>33</td>\n",
              "      <td>casado</td>\n",
              "      <td>Superior</td>\n",
              "      <td>3.0</td>\n",
              "      <td>17.26</td>\n",
              "      <td>43</td>\n",
              "      <td>7</td>\n",
              "      <td>capital</td>\n",
              "      <td>44.0</td>\n",
              "    </tr>\n",
              "    <tr>\n",
              "      <th>33</th>\n",
              "      <td>34</td>\n",
              "      <td>solteiro</td>\n",
              "      <td>Superior</td>\n",
              "      <td>NaN</td>\n",
              "      <td>18.75</td>\n",
              "      <td>33</td>\n",
              "      <td>7</td>\n",
              "      <td>capital</td>\n",
              "      <td>34.0</td>\n",
              "    </tr>\n",
              "    <tr>\n",
              "      <th>34</th>\n",
              "      <td>35</td>\n",
              "      <td>casado</td>\n",
              "      <td>2o Grau</td>\n",
              "      <td>2.0</td>\n",
              "      <td>19.40</td>\n",
              "      <td>48</td>\n",
              "      <td>11</td>\n",
              "      <td>capital</td>\n",
              "      <td>49.0</td>\n",
              "    </tr>\n",
              "    <tr>\n",
              "      <th>35</th>\n",
              "      <td>36</td>\n",
              "      <td>casado</td>\n",
              "      <td>Superior</td>\n",
              "      <td>3.0</td>\n",
              "      <td>23.30</td>\n",
              "      <td>42</td>\n",
              "      <td>2</td>\n",
              "      <td>interior</td>\n",
              "      <td>42.0</td>\n",
              "    </tr>\n",
              "  </tbody>\n",
              "</table>\n",
              "</div>"
            ],
            "text/plain": [
              "    Funcionario Est.civil      Inst  Filhos  ...  Anos  Meses    Regiao Idade\n",
              "0             1  solteiro   1o Grau     NaN  ...    26      3  interior  26.0\n",
              "1             2    casado   1o Grau     1.0  ...    32     10   capital  33.0\n",
              "2             3    casado   1o Grau     2.0  ...    36      5   capital  36.0\n",
              "3             4  solteiro   2o Grau     NaN  ...    20     10     outro  21.0\n",
              "4             5  solteiro   1o Grau     NaN  ...    40      7     outro  41.0\n",
              "5             6    casado   1o Grau     0.0  ...    28      0  interior  28.0\n",
              "6             7  solteiro   1o Grau     NaN  ...    41      0  interior  41.0\n",
              "7             8  solteiro   1o Grau     NaN  ...    43      4   capital  43.0\n",
              "8             9    casado   2o Grau     1.0  ...    34     10   capital  35.0\n",
              "9            10  solteiro   2o Grau     NaN  ...    23      6     outro  24.0\n",
              "10           11    casado   2o Grau     2.0  ...    33      6  interior  34.0\n",
              "11           12  solteiro   1o Grau     NaN  ...    27     11   capital  28.0\n",
              "12           13  solteiro   2o Grau     NaN  ...    37      5     outro  37.0\n",
              "13           14    casado   1o Grau     3.0  ...    44      2     outro  44.0\n",
              "14           15    casado   2o Grau     0.0  ...    30      5  interior  30.0\n",
              "15           16  solteiro   2o Grau     NaN  ...    38      8     outro  39.0\n",
              "16           17    casado   2o Grau     1.0  ...    31      7   capital  32.0\n",
              "17           18    casado   1o Grau     2.0  ...    39      7     outro  40.0\n",
              "18           19  solteiro  Superior     NaN  ...    25      8  interior  26.0\n",
              "19           20  solteiro   2o Grau     NaN  ...    37      4  interior  37.0\n",
              "20           21    casado   2o Grau     1.0  ...    30      9     outro  31.0\n",
              "21           22  solteiro   2o Grau     NaN  ...    34      2   capital  34.0\n",
              "22           23  solteiro   1o Grau     NaN  ...    41      0     outro  41.0\n",
              "23           24    casado  Superior     0.0  ...    26      1     outro  26.0\n",
              "24           25    casado   2o Grau     2.0  ...    32      5  interior  32.0\n",
              "25           26    casado   2o Grau     2.0  ...    35      0     outro  35.0\n",
              "26           27  solteiro   1o Grau     NaN  ...    46      7     outro  47.0\n",
              "27           28    casado   2o Grau     0.0  ...    29      8  interior  30.0\n",
              "28           29    casado   2o Grau     5.0  ...    40      6  interior  40.0\n",
              "29           30    casado   2o Grau     2.0  ...    35     10   capital  36.0\n",
              "30           31  solteiro  Superior     NaN  ...    31      5     outro  31.0\n",
              "31           32    casado   2o Grau     1.0  ...    36      4  interior  36.0\n",
              "32           33    casado  Superior     3.0  ...    43      7   capital  44.0\n",
              "33           34  solteiro  Superior     NaN  ...    33      7   capital  34.0\n",
              "34           35    casado   2o Grau     2.0  ...    48     11   capital  49.0\n",
              "35           36    casado  Superior     3.0  ...    42      2  interior  42.0\n",
              "\n",
              "[36 rows x 9 columns]"
            ]
          },
          "metadata": {
            "tags": []
          },
          "execution_count": 6
        }
      ]
    },
    {
      "cell_type": "code",
      "metadata": {
        "colab": {
          "base_uri": "https://localhost:8080/"
        },
        "id": "BLrF9aYbe0Pu",
        "outputId": "600ada3d-6b4e-47fb-d625-a1bb12138668"
      },
      "source": [
        "#Obtendo informações sobre as variáveis do conjunto de dados\n",
        "dados.info()"
      ],
      "execution_count": 7,
      "outputs": [
        {
          "output_type": "stream",
          "text": [
            "<class 'pandas.core.frame.DataFrame'>\n",
            "RangeIndex: 36 entries, 0 to 35\n",
            "Data columns (total 9 columns):\n",
            " #   Column       Non-Null Count  Dtype  \n",
            "---  ------       --------------  -----  \n",
            " 0   Funcionario  36 non-null     int64  \n",
            " 1   Est.civil    36 non-null     object \n",
            " 2   Inst         36 non-null     object \n",
            " 3   Filhos       20 non-null     float64\n",
            " 4   Salario      36 non-null     float64\n",
            " 5   Anos         36 non-null     int64  \n",
            " 6   Meses        36 non-null     int64  \n",
            " 7   Regiao       36 non-null     object \n",
            " 8   Idade        36 non-null     float64\n",
            "dtypes: float64(3), int64(3), object(3)\n",
            "memory usage: 2.7+ KB\n"
          ],
          "name": "stdout"
        }
      ]
    },
    {
      "cell_type": "markdown",
      "metadata": {
        "id": "WE2nMLH8wryJ"
      },
      "source": [
        "Aqui podemos observar que temos 9 variáveis no dataset, sendo elas do tipo inteiro, números reais e objeto (texto).\n",
        "\n",
        "As variáveis deste conjunto de dados se classificam em:\n",
        "\n",
        "- Funcionário: quantitativa discreta\n",
        "- Estado civil: qualitativa nominal\n",
        "- Grau de instrução: qualitativa ordinal\n",
        "- Filhos: quantitativa discreta\n",
        "- Salário: quantitativa contínua\n",
        "- Anos: quantitativa discreta\n",
        "- Meses: quantitativa discreta\n",
        "- Região: qualitativa nominal\n",
        "- Idade: quantitativa discreta"
      ]
    },
    {
      "cell_type": "code",
      "metadata": {
        "colab": {
          "base_uri": "https://localhost:8080/",
          "height": 297
        },
        "id": "9EZjZ7LLw0we",
        "outputId": "8343d01a-17dd-4a47-d262-5d055ef90fce"
      },
      "source": [
        "#Obtendo algumas medidas descritivas das variáveis\n",
        "dados.describe()"
      ],
      "execution_count": 8,
      "outputs": [
        {
          "output_type": "execute_result",
          "data": {
            "text/html": [
              "<div>\n",
              "<style scoped>\n",
              "    .dataframe tbody tr th:only-of-type {\n",
              "        vertical-align: middle;\n",
              "    }\n",
              "\n",
              "    .dataframe tbody tr th {\n",
              "        vertical-align: top;\n",
              "    }\n",
              "\n",
              "    .dataframe thead th {\n",
              "        text-align: right;\n",
              "    }\n",
              "</style>\n",
              "<table border=\"1\" class=\"dataframe\">\n",
              "  <thead>\n",
              "    <tr style=\"text-align: right;\">\n",
              "      <th></th>\n",
              "      <th>Funcionario</th>\n",
              "      <th>Filhos</th>\n",
              "      <th>Salario</th>\n",
              "      <th>Anos</th>\n",
              "      <th>Meses</th>\n",
              "      <th>Idade</th>\n",
              "    </tr>\n",
              "  </thead>\n",
              "  <tbody>\n",
              "    <tr>\n",
              "      <th>count</th>\n",
              "      <td>36.000000</td>\n",
              "      <td>20.000000</td>\n",
              "      <td>36.000000</td>\n",
              "      <td>36.000000</td>\n",
              "      <td>36.000000</td>\n",
              "      <td>36.000000</td>\n",
              "    </tr>\n",
              "    <tr>\n",
              "      <th>mean</th>\n",
              "      <td>18.500000</td>\n",
              "      <td>1.650000</td>\n",
              "      <td>11.122222</td>\n",
              "      <td>34.583333</td>\n",
              "      <td>5.611111</td>\n",
              "      <td>35.083333</td>\n",
              "    </tr>\n",
              "    <tr>\n",
              "      <th>std</th>\n",
              "      <td>10.535654</td>\n",
              "      <td>1.268028</td>\n",
              "      <td>4.587458</td>\n",
              "      <td>6.737422</td>\n",
              "      <td>3.288749</td>\n",
              "      <td>6.686340</td>\n",
              "    </tr>\n",
              "    <tr>\n",
              "      <th>min</th>\n",
              "      <td>1.000000</td>\n",
              "      <td>0.000000</td>\n",
              "      <td>4.000000</td>\n",
              "      <td>20.000000</td>\n",
              "      <td>0.000000</td>\n",
              "      <td>21.000000</td>\n",
              "    </tr>\n",
              "    <tr>\n",
              "      <th>25%</th>\n",
              "      <td>9.750000</td>\n",
              "      <td>1.000000</td>\n",
              "      <td>7.552500</td>\n",
              "      <td>30.000000</td>\n",
              "      <td>3.750000</td>\n",
              "      <td>30.750000</td>\n",
              "    </tr>\n",
              "    <tr>\n",
              "      <th>50%</th>\n",
              "      <td>18.500000</td>\n",
              "      <td>2.000000</td>\n",
              "      <td>10.165000</td>\n",
              "      <td>34.500000</td>\n",
              "      <td>6.000000</td>\n",
              "      <td>35.000000</td>\n",
              "    </tr>\n",
              "    <tr>\n",
              "      <th>75%</th>\n",
              "      <td>27.250000</td>\n",
              "      <td>2.000000</td>\n",
              "      <td>14.060000</td>\n",
              "      <td>40.000000</td>\n",
              "      <td>8.000000</td>\n",
              "      <td>40.250000</td>\n",
              "    </tr>\n",
              "    <tr>\n",
              "      <th>max</th>\n",
              "      <td>36.000000</td>\n",
              "      <td>5.000000</td>\n",
              "      <td>23.300000</td>\n",
              "      <td>48.000000</td>\n",
              "      <td>11.000000</td>\n",
              "      <td>49.000000</td>\n",
              "    </tr>\n",
              "  </tbody>\n",
              "</table>\n",
              "</div>"
            ],
            "text/plain": [
              "       Funcionario     Filhos    Salario       Anos      Meses      Idade\n",
              "count    36.000000  20.000000  36.000000  36.000000  36.000000  36.000000\n",
              "mean     18.500000   1.650000  11.122222  34.583333   5.611111  35.083333\n",
              "std      10.535654   1.268028   4.587458   6.737422   3.288749   6.686340\n",
              "min       1.000000   0.000000   4.000000  20.000000   0.000000  21.000000\n",
              "25%       9.750000   1.000000   7.552500  30.000000   3.750000  30.750000\n",
              "50%      18.500000   2.000000  10.165000  34.500000   6.000000  35.000000\n",
              "75%      27.250000   2.000000  14.060000  40.000000   8.000000  40.250000\n",
              "max      36.000000   5.000000  23.300000  48.000000  11.000000  49.000000"
            ]
          },
          "metadata": {
            "tags": []
          },
          "execution_count": 8
        }
      ]
    },
    {
      "cell_type": "markdown",
      "metadata": {
        "id": "95IlW-5Rw9NP"
      },
      "source": [
        "Observa-se que os funcionários desta empresa têm, em média, 35 anos de idade e  2 filhos. \n",
        "\n",
        "A média salarial dos colaboradores é de 11 salários mínimos. O maior salário é de 23 salários mínimos e o menor de 4 salários mínimos."
      ]
    },
    {
      "cell_type": "code",
      "metadata": {
        "colab": {
          "base_uri": "https://localhost:8080/"
        },
        "id": "atldcWbF3zQF",
        "outputId": "773c5c08-1ae6-4b66-c96a-1c2ca9428394"
      },
      "source": [
        "#Verificando as variáveis e a proporção de dados nulos no dataset\n",
        "(dados.isnull().sum()[ dados.isnull().sum() != 0 ]/dados.shape[0]).sort_values()"
      ],
      "execution_count": 9,
      "outputs": [
        {
          "output_type": "execute_result",
          "data": {
            "text/plain": [
              "Filhos    0.444444\n",
              "dtype: float64"
            ]
          },
          "metadata": {
            "tags": []
          },
          "execution_count": 9
        }
      ]
    },
    {
      "cell_type": "markdown",
      "metadata": {
        "id": "VPpw0GvG4m3y"
      },
      "source": [
        "Percebe-se que quase metade dos funcionários não possuem filhos e esta é a única variável que possui dados nulos no conjunto de dados."
      ]
    },
    {
      "cell_type": "markdown",
      "metadata": {
        "id": "rUClFTjmbOc8"
      },
      "source": [
        "##**Análise das Variáveis Qualitativas Nominais**"
      ]
    },
    {
      "cell_type": "markdown",
      "metadata": {
        "id": "jPq_SieTb5g4"
      },
      "source": [
        "##**Estado Civil**"
      ]
    },
    {
      "cell_type": "code",
      "metadata": {
        "colab": {
          "base_uri": "https://localhost:8080/"
        },
        "id": "BQ2_cifG4yNq",
        "outputId": "4be7ccad-370f-4766-d196-9b2033b36d94"
      },
      "source": [
        "#Frequência absoluta\n",
        "dados.groupby('Est.civil')['Est.civil'].count()"
      ],
      "execution_count": 10,
      "outputs": [
        {
          "output_type": "execute_result",
          "data": {
            "text/plain": [
              "Est.civil\n",
              "casado      20\n",
              "solteiro    16\n",
              "Name: Est.civil, dtype: int64"
            ]
          },
          "metadata": {
            "tags": []
          },
          "execution_count": 10
        }
      ]
    },
    {
      "cell_type": "code",
      "metadata": {
        "colab": {
          "base_uri": "https://localhost:8080/"
        },
        "id": "vQrZ7vTgTFEW",
        "outputId": "08253169-6aa5-4aa8-83a8-ed7982437e8d"
      },
      "source": [
        "#Frequência relativa\n",
        "((dados.groupby('Est.civil')['Est.civil'].count())/dados.shape[0]).sort_values()"
      ],
      "execution_count": 11,
      "outputs": [
        {
          "output_type": "execute_result",
          "data": {
            "text/plain": [
              "Est.civil\n",
              "solteiro    0.444444\n",
              "casado      0.555556\n",
              "Name: Est.civil, dtype: float64"
            ]
          },
          "metadata": {
            "tags": []
          },
          "execution_count": 11
        }
      ]
    },
    {
      "cell_type": "code",
      "metadata": {
        "colab": {
          "base_uri": "https://localhost:8080/",
          "height": 264
        },
        "id": "xc7uo9PfW66d",
        "outputId": "d549abd1-ce3a-4e7c-cad3-aab92e52bf18"
      },
      "source": [
        "#Gráfico da frequência relativa em porcentagem\n",
        "((dados.groupby('Est.civil')['Est.civil'].count())/dados.shape[0]).sort_values().plot(kind='pie', autopct=\"%1.1f%%\", title = 'Estado Civil dos Funcionários');"
      ],
      "execution_count": 12,
      "outputs": [
        {
          "output_type": "display_data",
          "data": {
            "image/png": "[encoded data removed]",
            "text/plain": [
              "<Figure size 432x288 with 1 Axes>"
            ]
          },
          "metadata": {
            "tags": []
          }
        }
      ]
    },
    {
      "cell_type": "markdown",
      "metadata": {
        "id": "ECjoitA0cSeD"
      },
      "source": [
        "Observa-se que pouco mais de 55% dos funcionários da empresa são casados e 44,4% são solteiros."
      ]
    },
    {
      "cell_type": "markdown",
      "metadata": {
        "id": "dVfHjt0ZcFHe"
      },
      "source": [
        "##**Região**"
      ]
    },
    {
      "cell_type": "code",
      "metadata": {
        "colab": {
          "base_uri": "https://localhost:8080/"
        },
        "id": "X3munH77cOAY",
        "outputId": "7447e04d-2d88-43a5-8fd8-446f24891c8d"
      },
      "source": [
        "#Frequência absoluta\n",
        "dados.groupby('Regiao')['Regiao'].count()"
      ],
      "execution_count": 13,
      "outputs": [
        {
          "output_type": "execute_result",
          "data": {
            "text/plain": [
              "Regiao\n",
              "capital     11\n",
              "interior    12\n",
              "outro       13\n",
              "Name: Regiao, dtype: int64"
            ]
          },
          "metadata": {
            "tags": []
          },
          "execution_count": 13
        }
      ]
    },
    {
      "cell_type": "code",
      "metadata": {
        "colab": {
          "base_uri": "https://localhost:8080/"
        },
        "id": "P_qMDUBIcVky",
        "outputId": "19ef66c9-495b-478e-936c-18165174cdc2"
      },
      "source": [
        "#Frequência relativa\n",
        "((dados.groupby('Regiao')['Regiao'].count())/dados.shape[0]).sort_values()"
      ],
      "execution_count": 14,
      "outputs": [
        {
          "output_type": "execute_result",
          "data": {
            "text/plain": [
              "Regiao\n",
              "capital     0.305556\n",
              "interior    0.333333\n",
              "outro       0.361111\n",
              "Name: Regiao, dtype: float64"
            ]
          },
          "metadata": {
            "tags": []
          },
          "execution_count": 14
        }
      ]
    },
    {
      "cell_type": "code",
      "metadata": {
        "colab": {
          "base_uri": "https://localhost:8080/",
          "height": 281
        },
        "id": "kWFg5H5Ycvfm",
        "outputId": "292acc30-ff42-47ba-e128-ada11a3134ae"
      },
      "source": [
        "#Gráfico da frequência relativa\n",
        "((dados.groupby('Regiao')['Regiao'].count())/dados.shape[0]).sort_values().plot(kind='barh', edgecolor = 'black', title = 'Proporção de Funcionários por Região');"
      ],
      "execution_count": 15,
      "outputs": [
        {
          "output_type": "display_data",
          "data": {
            "image/png": "[encoded data removed]",
            "text/plain": [
              "<Figure size 432x288 with 1 Axes>"
            ]
          },
          "metadata": {
            "tags": [],
            "needs_background": "light"
          }
        }
      ]
    },
    {
      "cell_type": "markdown",
      "metadata": {
        "id": "HZHoa8kxdSe4"
      },
      "source": [
        "Observa-se que a menor parte dos funcionários vive na capital (30,56%), seguido dos que vivem no interior com 33,33% e a maior parcela (36,11%) vive em outras regiões."
      ]
    },
    {
      "cell_type": "markdown",
      "metadata": {
        "id": "pC4_Y6ndd-F8"
      },
      "source": [
        "##**Análise da Variável Qualitativa Ordinal: Grau de Instrução**"
      ]
    },
    {
      "cell_type": "code",
      "metadata": {
        "colab": {
          "base_uri": "https://localhost:8080/"
        },
        "id": "w6Y4XjIId2Nj",
        "outputId": "fd72e9b5-7453-485d-849e-9b083fb6517a"
      },
      "source": [
        "#Frequência absoluta\n",
        "dados.groupby('Inst')['Inst'].count()"
      ],
      "execution_count": 16,
      "outputs": [
        {
          "output_type": "execute_result",
          "data": {
            "text/plain": [
              "Inst\n",
              "1o Grau     12\n",
              "2o Grau     18\n",
              "Superior     6\n",
              "Name: Inst, dtype: int64"
            ]
          },
          "metadata": {
            "tags": []
          },
          "execution_count": 16
        }
      ]
    },
    {
      "cell_type": "code",
      "metadata": {
        "colab": {
          "base_uri": "https://localhost:8080/"
        },
        "id": "J53qEbRAlt1A",
        "outputId": "786cbb28-bb85-4810-87cf-bd0761518c13"
      },
      "source": [
        "#Frequência relativa\n",
        "((dados.groupby('Inst')['Inst'].count())/dados.shape[0]).sort_values()"
      ],
      "execution_count": 17,
      "outputs": [
        {
          "output_type": "execute_result",
          "data": {
            "text/plain": [
              "Inst\n",
              "Superior    0.166667\n",
              "1o Grau     0.333333\n",
              "2o Grau     0.500000\n",
              "Name: Inst, dtype: float64"
            ]
          },
          "metadata": {
            "tags": []
          },
          "execution_count": 17
        }
      ]
    },
    {
      "cell_type": "code",
      "metadata": {
        "colab": {
          "base_uri": "https://localhost:8080/",
          "height": 327
        },
        "id": "ErEfj1bxl_ZS",
        "outputId": "1797790b-1d67-4f07-f94e-fe71bf5abe6f"
      },
      "source": [
        "#Gráfico da frequência relativa\n",
        "((dados.groupby('Inst')['Inst'].count())/dados.shape[0]).sort_values().plot(kind='bar', edgecolor = 'black', title = 'Proporção de Funcionários por Grau de Instrução');"
      ],
      "execution_count": 18,
      "outputs": [
        {
          "output_type": "display_data",
          "data": {
            "image/png": "[encoded data removed]",
            "text/plain": [
              "<Figure size 432x288 with 1 Axes>"
            ]
          },
          "metadata": {
            "tags": [],
            "needs_background": "light"
          }
        }
      ]
    },
    {
      "cell_type": "markdown",
      "metadata": {
        "id": "4XBzJmBDmz8V"
      },
      "source": [
        "Observa-se no grau de instrução dos funcionários, 16,67% deles possuem curso superior, 33,33% 1º grau e 50% possuem 2º grau."
      ]
    },
    {
      "cell_type": "code",
      "metadata": {
        "colab": {
          "base_uri": "https://localhost:8080/",
          "height": 173
        },
        "id": "iHqsg2xPmh65",
        "outputId": "8ef1617f-c415-4bbf-bd62-b814db9037ef"
      },
      "source": [
        "#Obtendo algumas medidas descritivas da variável Grau de Instrução\n",
        "dados.groupby('Inst')['Inst'].describe()"
      ],
      "execution_count": 19,
      "outputs": [
        {
          "output_type": "execute_result",
          "data": {
            "text/html": [
              "<div>\n",
              "<style scoped>\n",
              "    .dataframe tbody tr th:only-of-type {\n",
              "        vertical-align: middle;\n",
              "    }\n",
              "\n",
              "    .dataframe tbody tr th {\n",
              "        vertical-align: top;\n",
              "    }\n",
              "\n",
              "    .dataframe thead th {\n",
              "        text-align: right;\n",
              "    }\n",
              "</style>\n",
              "<table border=\"1\" class=\"dataframe\">\n",
              "  <thead>\n",
              "    <tr style=\"text-align: right;\">\n",
              "      <th></th>\n",
              "      <th>count</th>\n",
              "      <th>unique</th>\n",
              "      <th>top</th>\n",
              "      <th>freq</th>\n",
              "    </tr>\n",
              "    <tr>\n",
              "      <th>Inst</th>\n",
              "      <th></th>\n",
              "      <th></th>\n",
              "      <th></th>\n",
              "      <th></th>\n",
              "    </tr>\n",
              "  </thead>\n",
              "  <tbody>\n",
              "    <tr>\n",
              "      <th>1o Grau</th>\n",
              "      <td>12</td>\n",
              "      <td>1</td>\n",
              "      <td>1o Grau</td>\n",
              "      <td>12</td>\n",
              "    </tr>\n",
              "    <tr>\n",
              "      <th>2o Grau</th>\n",
              "      <td>18</td>\n",
              "      <td>1</td>\n",
              "      <td>2o Grau</td>\n",
              "      <td>18</td>\n",
              "    </tr>\n",
              "    <tr>\n",
              "      <th>Superior</th>\n",
              "      <td>6</td>\n",
              "      <td>1</td>\n",
              "      <td>Superior</td>\n",
              "      <td>6</td>\n",
              "    </tr>\n",
              "  </tbody>\n",
              "</table>\n",
              "</div>"
            ],
            "text/plain": [
              "         count unique       top freq\n",
              "Inst                                \n",
              "1o Grau     12      1   1o Grau   12\n",
              "2o Grau     18      1   2o Grau   18\n",
              "Superior     6      1  Superior    6"
            ]
          },
          "metadata": {
            "tags": []
          },
          "execution_count": 19
        }
      ]
    },
    {
      "cell_type": "markdown",
      "metadata": {
        "id": "MC8S17ycq9x4"
      },
      "source": [
        "Observa-se que a categoria de maior frequência desta distribuição (moda) é 2º grau, onde tiveram 18 ocorrências."
      ]
    },
    {
      "cell_type": "markdown",
      "metadata": {
        "id": "hYEpdcFErwhQ"
      },
      "source": [
        "##**Análise das Variáveis Quantitativas Discretas**"
      ]
    },
    {
      "cell_type": "markdown",
      "metadata": {
        "id": "jus3ocUgeDlM"
      },
      "source": [
        "##**Filhos**"
      ]
    },
    {
      "cell_type": "code",
      "metadata": {
        "colab": {
          "base_uri": "https://localhost:8080/"
        },
        "id": "M8K36ZNWsAd9",
        "outputId": "e1a2cd5b-c64c-42c7-dcd1-14152b04e604"
      },
      "source": [
        "#Frequência absoluta\n",
        "dados.groupby('Filhos')['Filhos'].count()"
      ],
      "execution_count": 20,
      "outputs": [
        {
          "output_type": "execute_result",
          "data": {
            "text/plain": [
              "Filhos\n",
              "0.0    4\n",
              "1.0    5\n",
              "2.0    7\n",
              "3.0    3\n",
              "5.0    1\n",
              "Name: Filhos, dtype: int64"
            ]
          },
          "metadata": {
            "tags": []
          },
          "execution_count": 20
        }
      ]
    },
    {
      "cell_type": "code",
      "metadata": {
        "colab": {
          "base_uri": "https://localhost:8080/"
        },
        "id": "5XeiJ3XFtgDF",
        "outputId": "3576b899-a6af-4388-d9e8-8405cc0c7a62"
      },
      "source": [
        "#Frequência relativa\n",
        "((dados.groupby('Filhos')['Filhos'].count())/dados.shape[0]).sort_values()"
      ],
      "execution_count": 21,
      "outputs": [
        {
          "output_type": "execute_result",
          "data": {
            "text/plain": [
              "Filhos\n",
              "5.0    0.027778\n",
              "3.0    0.083333\n",
              "0.0    0.111111\n",
              "1.0    0.138889\n",
              "2.0    0.194444\n",
              "Name: Filhos, dtype: float64"
            ]
          },
          "metadata": {
            "tags": []
          },
          "execution_count": 21
        }
      ]
    },
    {
      "cell_type": "code",
      "metadata": {
        "colab": {
          "base_uri": "https://localhost:8080/",
          "height": 281
        },
        "id": "Hu09Zblmtpwt",
        "outputId": "a4c3ea1b-1754-43a1-e103-2143bba626c5"
      },
      "source": [
        "#Gráfico da frequência relativa\n",
        "((dados.groupby('Filhos')['Filhos'].count())/dados.shape[0]).sort_values().plot(kind = 'barh', edgecolor = 'black', title = 'Proporção de Funcionários x Quantidade de Filhos');"
      ],
      "execution_count": 22,
      "outputs": [
        {
          "output_type": "display_data",
          "data": {
            "image/png": "[encoded data removed]",
            "text/plain": [
              "<Figure size 432x288 with 1 Axes>"
            ]
          },
          "metadata": {
            "tags": [],
            "needs_background": "light"
          }
        }
      ]
    },
    {
      "cell_type": "markdown",
      "metadata": {
        "id": "GNI3UGIJwcup"
      },
      "source": [
        "Dos funcionários desta empresa, 19,44% possuem dois filhos, 13,89% apenas um filho e 11,11% não possuem filhos. Menos de 10% dos colaboradores possuem 3 ou 5 filhos."
      ]
    },
    {
      "cell_type": "code",
      "metadata": {
        "colab": {
          "base_uri": "https://localhost:8080/"
        },
        "id": "bKM5hjq_0nGU",
        "outputId": "b8aeb460-2254-46b0-8e6a-0872625754ac"
      },
      "source": [
        "#Algumas medidas descritivas\n",
        "dados['Filhos'].describe()"
      ],
      "execution_count": 23,
      "outputs": [
        {
          "output_type": "execute_result",
          "data": {
            "text/plain": [
              "count    20.000000\n",
              "mean      1.650000\n",
              "std       1.268028\n",
              "min       0.000000\n",
              "25%       1.000000\n",
              "50%       2.000000\n",
              "75%       2.000000\n",
              "max       5.000000\n",
              "Name: Filhos, dtype: float64"
            ]
          },
          "metadata": {
            "tags": []
          },
          "execution_count": 23
        }
      ]
    },
    {
      "cell_type": "markdown",
      "metadata": {
        "id": "6Y7qe-di2L9d"
      },
      "source": [
        "A média é de 2 filhos por funcionário, sendo o máximo de 5 filhos e o mínimo nenhum filho."
      ]
    },
    {
      "cell_type": "markdown",
      "metadata": {
        "id": "PgKxRntoei2_"
      },
      "source": [
        "##**Idade**"
      ]
    },
    {
      "cell_type": "code",
      "metadata": {
        "id": "p-YQ-SeApvbg"
      },
      "source": [
        "#Criando grupo de idades com escolha arbitrária dos cortes\n",
        "cortesi = [0, 24, 30, 40, 50]\n",
        "nomesi = ['[18,24]', '[25,30]', '[31,40]', '[41,50]']\n",
        "dados['idade_grupos'] = pd.cut(dados['Idade'], bins = cortesi, labels = nomesi)"
      ],
      "execution_count": 24,
      "outputs": []
    },
    {
      "cell_type": "code",
      "metadata": {
        "colab": {
          "base_uri": "https://localhost:8080/"
        },
        "id": "oN_RUyI43q_3",
        "outputId": "3e3d312f-8ae6-4cb9-83c0-fa664203c8ac"
      },
      "source": [
        "#Frequência absoluta\n",
        "dados.groupby('Idade')['Idade'].count()"
      ],
      "execution_count": 25,
      "outputs": [
        {
          "output_type": "execute_result",
          "data": {
            "text/plain": [
              "Idade\n",
              "21.0    1\n",
              "24.0    1\n",
              "26.0    3\n",
              "28.0    2\n",
              "30.0    2\n",
              "31.0    2\n",
              "32.0    2\n",
              "33.0    1\n",
              "34.0    3\n",
              "35.0    2\n",
              "36.0    3\n",
              "37.0    2\n",
              "39.0    1\n",
              "40.0    2\n",
              "41.0    3\n",
              "42.0    1\n",
              "43.0    1\n",
              "44.0    2\n",
              "47.0    1\n",
              "49.0    1\n",
              "Name: Idade, dtype: int64"
            ]
          },
          "metadata": {
            "tags": []
          },
          "execution_count": 25
        }
      ]
    },
    {
      "cell_type": "code",
      "metadata": {
        "colab": {
          "base_uri": "https://localhost:8080/"
        },
        "id": "kk2h_kaE34bq",
        "outputId": "ba2f61ec-2b4d-4c09-c80e-48e6a28da80c"
      },
      "source": [
        "#Frequência relativa\n",
        "((dados.groupby('Idade')['Idade'].count())/dados.shape[0]).sort_values()"
      ],
      "execution_count": 26,
      "outputs": [
        {
          "output_type": "execute_result",
          "data": {
            "text/plain": [
              "Idade\n",
              "21.0    0.027778\n",
              "43.0    0.027778\n",
              "42.0    0.027778\n",
              "39.0    0.027778\n",
              "47.0    0.027778\n",
              "33.0    0.027778\n",
              "49.0    0.027778\n",
              "24.0    0.027778\n",
              "31.0    0.055556\n",
              "30.0    0.055556\n",
              "37.0    0.055556\n",
              "28.0    0.055556\n",
              "40.0    0.055556\n",
              "44.0    0.055556\n",
              "32.0    0.055556\n",
              "35.0    0.055556\n",
              "34.0    0.083333\n",
              "36.0    0.083333\n",
              "41.0    0.083333\n",
              "26.0    0.083333\n",
              "Name: Idade, dtype: float64"
            ]
          },
          "metadata": {
            "tags": []
          },
          "execution_count": 26
        }
      ]
    },
    {
      "cell_type": "code",
      "metadata": {
        "colab": {
          "base_uri": "https://localhost:8080/",
          "height": 281
        },
        "id": "VCUiWI2A57AK",
        "outputId": "bb303ab3-5174-4319-ec8a-b2abfa3ea546"
      },
      "source": [
        "#Gráfico da frequência relativa\n",
        "((dados.groupby('Idade')['Idade'].count())/dados.shape[0]).sort_values().plot(kind = 'barh', edgecolor = 'black', title = 'Proporção de Funcionários por Idade');"
      ],
      "execution_count": 27,
      "outputs": [
        {
          "output_type": "display_data",
          "data": {
            "image/png": "[encoded data removed]",
            "text/plain": [
              "<Figure size 432x288 with 1 Axes>"
            ]
          },
          "metadata": {
            "tags": [],
            "needs_background": "light"
          }
        }
      ]
    },
    {
      "cell_type": "markdown",
      "metadata": {
        "id": "Mi00vG7gxGwc"
      },
      "source": [
        "As idades com maior frequência relativa nesta população de funcionários é de 26, 34, 36 e 41 anos com 8,33% dos colaboradores nesta faixa de idade.\n",
        "As menores frequências relativas de idades estão entre 21 e 49 anos, representando 2,78% dos funcionários."
      ]
    },
    {
      "cell_type": "code",
      "metadata": {
        "colab": {
          "base_uri": "https://localhost:8080/"
        },
        "id": "-vmKoZLPx4xI",
        "outputId": "4b7a96d4-982e-4fef-e323-4e424075bcbf"
      },
      "source": [
        "#Frequência relativa da variável Idade dividida em grupos\n",
        "((dados.groupby('idade_grupos')['idade_grupos'].count())/dados.shape[0]).sort_values()"
      ],
      "execution_count": 28,
      "outputs": [
        {
          "output_type": "execute_result",
          "data": {
            "text/plain": [
              "idade_grupos\n",
              "[18,24]    0.055556\n",
              "[25,30]    0.194444\n",
              "[41,50]    0.250000\n",
              "[31,40]    0.500000\n",
              "Name: idade_grupos, dtype: float64"
            ]
          },
          "metadata": {
            "tags": []
          },
          "execution_count": 28
        }
      ]
    },
    {
      "cell_type": "code",
      "metadata": {
        "colab": {
          "base_uri": "https://localhost:8080/",
          "height": 281
        },
        "id": "3D73uZP63gIj",
        "outputId": "14e4f14f-8f29-45d9-e34c-7735be32318c"
      },
      "source": [
        "#Gráfico da frequência relativa da variável Idade dividida em grupos\n",
        "((dados.groupby('idade_grupos')['idade_grupos'].count())/dados.shape[0]).sort_values().plot(kind = 'barh', edgecolor = 'black', title = 'Proporção de Funcionários por Grupos de Idade');"
      ],
      "execution_count": 29,
      "outputs": [
        {
          "output_type": "display_data",
          "data": {
            "image/png": "[encoded data removed]",
            "text/plain": [
              "<Figure size 432x288 with 1 Axes>"
            ]
          },
          "metadata": {
            "tags": [],
            "needs_background": "light"
          }
        }
      ]
    },
    {
      "cell_type": "markdown",
      "metadata": {
        "id": "RLrPMj7VWLFw"
      },
      "source": [
        "O grupo de idade com menor frequência relativa em porcentagem tem 5,55% dos funcionários com idades entre 18 a 24 anos. O grupo com idades entre 31 e 40 anos apresenta a maior frequência percentual com 50% dos colaboradores nestas faixas etárias."
      ]
    },
    {
      "cell_type": "code",
      "metadata": {
        "colab": {
          "base_uri": "https://localhost:8080/"
        },
        "id": "XCku2Ygp6HQf",
        "outputId": "5fc32171-4885-4b6e-8835-31f27d39cefb"
      },
      "source": [
        "#Algumas medidas descritivas\n",
        "dados['Idade'].describe()"
      ],
      "execution_count": 30,
      "outputs": [
        {
          "output_type": "execute_result",
          "data": {
            "text/plain": [
              "count    36.000000\n",
              "mean     35.083333\n",
              "std       6.686340\n",
              "min      21.000000\n",
              "25%      30.750000\n",
              "50%      35.000000\n",
              "75%      40.250000\n",
              "max      49.000000\n",
              "Name: Idade, dtype: float64"
            ]
          },
          "metadata": {
            "tags": []
          },
          "execution_count": 30
        }
      ]
    },
    {
      "cell_type": "markdown",
      "metadata": {
        "id": "A0RU5vRc6kfL"
      },
      "source": [
        "O funcionário mais velho desta empresa tem 49 anos enquanto o mais novo tem 21 anos. A média de idade dos colaboradores é de 35 anos."
      ]
    },
    {
      "cell_type": "code",
      "metadata": {
        "colab": {
          "base_uri": "https://localhost:8080/",
          "height": 281
        },
        "id": "TLRTLlF82cdk",
        "outputId": "c4fd6745-003b-4cda-b0b1-2e47a59398a7"
      },
      "source": [
        "#Histograma\n",
        "dados['Idade'].plot(kind = 'hist', edgecolor = 'black', title = 'Histograma das Idades dos Funcionários');"
      ],
      "execution_count": 31,
      "outputs": [
        {
          "output_type": "display_data",
          "data": {
            "image/png": "[encoded data removed]",
            "text/plain": [
              "<Figure size 432x288 with 1 Axes>"
            ]
          },
          "metadata": {
            "tags": [],
            "needs_background": "light"
          }
        }
      ]
    },
    {
      "cell_type": "markdown",
      "metadata": {
        "id": "MFtC2NDzz0M1"
      },
      "source": [
        "No histograma de idades acima, observa-se que há uma variação de frequência entre as idades dos funcionários. Há uma quantidade maior de funcionários com idades em torno de 25, 30, 35 e 40 anos."
      ]
    },
    {
      "cell_type": "markdown",
      "metadata": {
        "id": "dd1Mx-VJ7MO7"
      },
      "source": [
        "##**Análise da Variável Quantitativa Contínua: Salário**"
      ]
    },
    {
      "cell_type": "code",
      "metadata": {
        "colab": {
          "base_uri": "https://localhost:8080/"
        },
        "id": "idizfwNcvb6Y",
        "outputId": "8aa8d1f9-cad5-421f-a82a-1e7ef3f7e470"
      },
      "source": [
        "#Algumas medidas descritivas da variável Salário\n",
        "dados['Salario'].describe()"
      ],
      "execution_count": 32,
      "outputs": [
        {
          "output_type": "execute_result",
          "data": {
            "text/plain": [
              "count    36.000000\n",
              "mean     11.122222\n",
              "std       4.587458\n",
              "min       4.000000\n",
              "25%       7.552500\n",
              "50%      10.165000\n",
              "75%      14.060000\n",
              "max      23.300000\n",
              "Name: Salario, dtype: float64"
            ]
          },
          "metadata": {
            "tags": []
          },
          "execution_count": 32
        }
      ]
    },
    {
      "cell_type": "markdown",
      "metadata": {
        "id": "weC-GdJNvkb_"
      },
      "source": [
        "A média salarial dos funcionários é de 11.12 salários mínimos. A mediana é de 10.17 salários mínimos. A maior faixa salarial é de 23.30 salários e a menor de 4 salários."
      ]
    },
    {
      "cell_type": "code",
      "metadata": {
        "id": "Tpc4gzMjsWFV"
      },
      "source": [
        "#Gerando um intervalo de classes da variável Salário, considerando o ponto médio entre os valores destes intervalos\n",
        "dados['salario'] = pd.cut(dados['Salario'], bins = [3, 8, 11.99, 16, 20, 24], labels = ['6', '10', '14', '18','22'])"
      ],
      "execution_count": 33,
      "outputs": []
    },
    {
      "cell_type": "markdown",
      "metadata": {
        "id": "w_CM0--QobK9"
      },
      "source": [
        "Para as classes de salário, considerou-se classifcar da seguinte forma:\n",
        "\n",
        "- [4, 8) ponto médio é 6\n",
        "- [8, 12) ponto médio é 10\n",
        "- [12, 16) ponto médio é 14\n",
        "- [16, 20) ponto médio é 18\n",
        "- [20, 24) ponto médio é 22"
      ]
    },
    {
      "cell_type": "code",
      "metadata": {
        "colab": {
          "base_uri": "https://localhost:8080/"
        },
        "id": "SJO9AIkr5Ig2",
        "outputId": "32eb2985-a460-4f3e-cf81-bf401fcf3f54"
      },
      "source": [
        "#Mostrando os dados da variável Salário\n",
        "dados['Salario'].head(38)"
      ],
      "execution_count": 34,
      "outputs": [
        {
          "output_type": "execute_result",
          "data": {
            "text/plain": [
              "0      4.00\n",
              "1      4.56\n",
              "2      5.25\n",
              "3      5.73\n",
              "4      6.26\n",
              "5      6.66\n",
              "6      6.86\n",
              "7      7.39\n",
              "8      7.59\n",
              "9      7.44\n",
              "10     8.12\n",
              "11     8.46\n",
              "12     8.74\n",
              "13     8.95\n",
              "14     9.13\n",
              "15     9.35\n",
              "16     9.77\n",
              "17     9.80\n",
              "18    10.53\n",
              "19    10.76\n",
              "20    11.06\n",
              "21    11.59\n",
              "22    12.00\n",
              "23    12.79\n",
              "24    13.23\n",
              "25    13.60\n",
              "26    13.85\n",
              "27    14.69\n",
              "28    14.71\n",
              "29    15.99\n",
              "30    16.22\n",
              "31    16.61\n",
              "32    17.26\n",
              "33    18.75\n",
              "34    19.40\n",
              "35    23.30\n",
              "Name: Salario, dtype: float64"
            ]
          },
          "metadata": {
            "tags": []
          },
          "execution_count": 34
        }
      ]
    },
    {
      "cell_type": "code",
      "metadata": {
        "colab": {
          "base_uri": "https://localhost:8080/"
        },
        "id": "IQoK9N9c4a2v",
        "outputId": "c0986a19-7433-47c5-e43c-a4f217494411"
      },
      "source": [
        "#Mostrando os dados da variável Salário dividida em intervalo de classes\n",
        "dados['salario'].head(38)"
      ],
      "execution_count": 35,
      "outputs": [
        {
          "output_type": "execute_result",
          "data": {
            "text/plain": [
              "0      6\n",
              "1      6\n",
              "2      6\n",
              "3      6\n",
              "4      6\n",
              "5      6\n",
              "6      6\n",
              "7      6\n",
              "8      6\n",
              "9      6\n",
              "10    10\n",
              "11    10\n",
              "12    10\n",
              "13    10\n",
              "14    10\n",
              "15    10\n",
              "16    10\n",
              "17    10\n",
              "18    10\n",
              "19    10\n",
              "20    10\n",
              "21    10\n",
              "22    14\n",
              "23    14\n",
              "24    14\n",
              "25    14\n",
              "26    14\n",
              "27    14\n",
              "28    14\n",
              "29    14\n",
              "30    18\n",
              "31    18\n",
              "32    18\n",
              "33    18\n",
              "34    18\n",
              "35    22\n",
              "Name: salario, dtype: category\n",
              "Categories (5, object): ['6' < '10' < '14' < '18' < '22']"
            ]
          },
          "metadata": {
            "tags": []
          },
          "execution_count": 35
        }
      ]
    },
    {
      "cell_type": "code",
      "metadata": {
        "colab": {
          "base_uri": "https://localhost:8080/"
        },
        "id": "JQIIlxOtfCkt",
        "outputId": "4177a299-8447-4791-93be-ad3d255da420"
      },
      "source": [
        "#Frequência absoluta do intervalo de classes salariais\n",
        "dados.groupby('salario')['salario'].count()"
      ],
      "execution_count": 36,
      "outputs": [
        {
          "output_type": "execute_result",
          "data": {
            "text/plain": [
              "salario\n",
              "6     10\n",
              "10    12\n",
              "14     8\n",
              "18     5\n",
              "22     1\n",
              "Name: salario, dtype: int64"
            ]
          },
          "metadata": {
            "tags": []
          },
          "execution_count": 36
        }
      ]
    },
    {
      "cell_type": "markdown",
      "metadata": {
        "id": "Sb7XcNAIpNeq"
      },
      "source": [
        "Podemos observar que, de acordo com as classes de salários, a maior frequência absoluta é de 10 salários mínimos com 12 funcionários recebendo esta quantia. Em seguida, 10 pessoas recebem 6 salários mínimos. Apenas um funcionário recebe 22 salários."
      ]
    },
    {
      "cell_type": "code",
      "metadata": {
        "colab": {
          "base_uri": "https://localhost:8080/"
        },
        "id": "Tfp6l2LXdwe3",
        "outputId": "7d6b6218-9384-4ce9-e599-cf22c14edc81"
      },
      "source": [
        "#Frequência relativa do intervalo de classes salariais\n",
        "((dados.groupby('salario')['salario'].count())/dados.shape[0]).sort_values()"
      ],
      "execution_count": 37,
      "outputs": [
        {
          "output_type": "execute_result",
          "data": {
            "text/plain": [
              "salario\n",
              "22    0.027778\n",
              "18    0.138889\n",
              "14    0.222222\n",
              "6     0.277778\n",
              "10    0.333333\n",
              "Name: salario, dtype: float64"
            ]
          },
          "metadata": {
            "tags": []
          },
          "execution_count": 37
        }
      ]
    },
    {
      "cell_type": "code",
      "metadata": {
        "colab": {
          "base_uri": "https://localhost:8080/",
          "height": 281
        },
        "id": "dNG2ym4l0_eN",
        "outputId": "3a855456-d7eb-451f-9f5b-512110b00791"
      },
      "source": [
        "#Gráfico da frequência relativa do intervalo de classes salariais\n",
        "((dados.groupby('salario')['salario'].count())/dados.shape[0]).sort_values().plot(kind = 'barh', edgecolor = 'black', title = 'Porporção de Funcionários x Salário');"
      ],
      "execution_count": 38,
      "outputs": [
        {
          "output_type": "display_data",
          "data": {
            "image/png": "[encoded data removed]",
            "text/plain": [
              "<Figure size 432x288 with 1 Axes>"
            ]
          },
          "metadata": {
            "tags": [],
            "needs_background": "light"
          }
        }
      ]
    },
    {
      "cell_type": "markdown",
      "metadata": {
        "id": "pLSccber4RMc"
      },
      "source": [
        "Observa-se pelo gráfico que a maior proporção de funcionários recebe 10 salários mínimos. A menor proporção recebe 22 salários mínimos.\n",
        "\n",
        "Frequência relativa percentual de salários:\n",
        "\n",
        "- 33,33% recebem 10 salários mínimos\n",
        "- 27,78% recebem 6 salários mínimos\n",
        "- 22,22% recebem 14 salários mínimos\n",
        "- 13,89% recebem 18 salários mínimos\n",
        "- 2,78% recebem 22 salários mínimos\n",
        "\n"
      ]
    },
    {
      "cell_type": "code",
      "metadata": {
        "colab": {
          "base_uri": "https://localhost:8080/",
          "height": 281
        },
        "id": "7Ig-6XX62vTc",
        "outputId": "e8293313-373c-41ed-f145-d42af6638e5d"
      },
      "source": [
        "#Histograma\n",
        "dados['Salario'].plot(kind = 'hist', edgecolor = 'black', title = 'Histograma de Salários');"
      ],
      "execution_count": 39,
      "outputs": [
        {
          "output_type": "display_data",
          "data": {
            "image/png": "[encoded data removed]",
            "text/plain": [
              "<Figure size 432x288 with 1 Axes>"
            ]
          },
          "metadata": {
            "tags": [],
            "needs_background": "light"
          }
        }
      ]
    },
    {
      "cell_type": "markdown",
      "metadata": {
        "id": "_6IjJfZJ6drH"
      },
      "source": [
        "No histograma acima, observa-se que a frequência de salários decresce em um dos lados do gráfico e a média está fora do meio da faixa de variação. Há um valor separado do restante dos dados, uma vez que é o maior valor salarial com apenas uma ocorrência no conjunto de dados."
      ]
    },
    {
      "cell_type": "markdown",
      "metadata": {
        "id": "UrU-yyjXcOM2"
      },
      "source": [
        "##**Análise Entre Variáveis**"
      ]
    },
    {
      "cell_type": "code",
      "metadata": {
        "colab": {
          "base_uri": "https://localhost:8080/"
        },
        "id": "HgfU5SeR83yC",
        "outputId": "31089866-e8f9-4701-e13b-763a29bfaeae"
      },
      "source": [
        "#Agrupando idade dos funcionários em relação a média salarial\n",
        "dados.groupby(['idade_grupos']).mean()['Salario'].round(2)"
      ],
      "execution_count": 40,
      "outputs": [
        {
          "output_type": "execute_result",
          "data": {
            "text/plain": [
              "idade_grupos\n",
              "[18,24]     6.59\n",
              "[25,30]     9.47\n",
              "[31,40]    11.43\n",
              "[41,50]    12.81\n",
              "Name: Salario, dtype: float64"
            ]
          },
          "metadata": {
            "tags": []
          },
          "execution_count": 40
        }
      ]
    },
    {
      "cell_type": "code",
      "metadata": {
        "colab": {
          "base_uri": "https://localhost:8080/",
          "height": 281
        },
        "id": "OzCTUu6OdwtS",
        "outputId": "1cb94e78-a3bc-419b-8739-72941d69e964"
      },
      "source": [
        "#Gráfico do agrupamento de idade dos funcionários em relação a média salarial\n",
        "dados.groupby(['idade_grupos']).mean()['Salario'].plot(kind = 'barh', edgecolor = 'black', title = 'Idade x Média Salarial');"
      ],
      "execution_count": 41,
      "outputs": [
        {
          "output_type": "display_data",
          "data": {
            "image/png": "[encoded data removed]",
            "text/plain": [
              "<Figure size 432x288 with 1 Axes>"
            ]
          },
          "metadata": {
            "tags": [],
            "needs_background": "light"
          }
        }
      ]
    },
    {
      "cell_type": "markdown",
      "metadata": {
        "id": "f-hdgYTE6p4B"
      },
      "source": [
        "Observa-se que o grupo de idade que recebe a maior média salarial é o de funcionários entre 41 e 50 anos com 12.81 salários mínimos. O grupo que recebe a menor média salarial está entre 18 e 24 anos, recebendo 6.59 salários mínimos."
      ]
    },
    {
      "cell_type": "code",
      "metadata": {
        "colab": {
          "base_uri": "https://localhost:8080/",
          "height": 267
        },
        "id": "_LosmiP-BObb",
        "outputId": "89e692a8-01f0-4af9-e527-7a4214bba329"
      },
      "source": [
        "#Gráfico de dispersão do intervalo de classes da variável Salário em relação a Idade\n",
        "import matplotlib.pyplot as plt\n",
        "\n",
        "plt.scatter(dados['salario'], dados['Idade'], alpha = 0.5);"
      ],
      "execution_count": 42,
      "outputs": [
        {
          "output_type": "display_data",
          "data": {
            "image/png": "[encoded data removed]",
            "text/plain": [
              "<Figure size 432x288 with 1 Axes>"
            ]
          },
          "metadata": {
            "tags": [],
            "needs_background": "light"
          }
        }
      ]
    },
    {
      "cell_type": "markdown",
      "metadata": {
        "id": "fQrnz4ryBedx"
      },
      "source": [
        "A partir do gráfico de dispersão, observa-se que a maior concentração de colaboradores que recebem 10 salários mínimos encontra-se nas faixas de idade entre 30 e 40 anos. Colaboradores que recebem 6 salários mínimos concentram-se na faixa de idade de 35 anos."
      ]
    },
    {
      "cell_type": "code",
      "metadata": {
        "id": "hK_5BJ-j_9BP"
      },
      "source": [
        "#Importando a biblioteca seaborn para criar gráfico diagrama de caixa (boxplot)\n",
        "import seaborn as sns\n",
        "import matplotlib.pyplot as plt\n",
        "\n",
        "#Comando para não precisar dar plt.show em cada gráfico\n",
        "%matplotlib inline"
      ],
      "execution_count": 43,
      "outputs": []
    },
    {
      "cell_type": "code",
      "metadata": {
        "colab": {
          "base_uri": "https://localhost:8080/",
          "height": 279
        },
        "id": "w0dQDE4zhwb3",
        "outputId": "b587a78d-e4c9-40ef-d997-2b39f70d0372"
      },
      "source": [
        "#Gráfico boxplot dos salários para cada nível de instrução\n",
        "#Variável explicativa eixo x = grau de instrução\n",
        "#Variável resposta eixo y =  salário\n",
        "sns.boxplot(x='Inst', y='Salario', data=dados);"
      ],
      "execution_count": 44,
      "outputs": [
        {
          "output_type": "display_data",
          "data": {
            "image/png": "[encoded data removed]",
            "text/plain": [
              "<Figure size 432x288 with 1 Axes>"
            ]
          },
          "metadata": {
            "tags": [],
            "needs_background": "light"
          }
        }
      ]
    },
    {
      "cell_type": "markdown",
      "metadata": {
        "id": "Ckl3CHRM6z-o"
      },
      "source": [
        "Pode-se observar pelo gráfico boxplot que, funcionários que possuem 2º grau e curso superior, possuem uma maior variabilidade de salários em relação aos colaboradores com o 1º grau de instrução.\n",
        "\n",
        "A mediana (2º Quartil) de salários para funcionários com:\n",
        "- 1º grau: está próxima de 7.5 salários mínimos\n",
        "- 2º grau: está entre 10 e 12.5 salários mínimos\n",
        "- 3º grau: está entre 15 e 17.5 salários mínimos\n",
        "\n",
        "Valores máximos de salários para funcionários com:\n",
        "- 1º grau: está 12.5 e 15 salários mínimos\n",
        "- 2º grau: está entre 17.5 e 20 salários mínimos\n",
        "- 3º grau: está entre 20 e 22.5 salários mínimos"
      ]
    },
    {
      "cell_type": "code",
      "metadata": {
        "colab": {
          "base_uri": "https://localhost:8080/"
        },
        "id": "bPiRzl_UDZpv",
        "outputId": "8059e94d-c561-4426-eb4c-86ecf1585278"
      },
      "source": [
        "#Agrupando do Grau de Instrução dos funcionários em relação a média de idade\n",
        "dados.groupby(['Inst']).mean()['Idade'].round(2)"
      ],
      "execution_count": 45,
      "outputs": [
        {
          "output_type": "execute_result",
          "data": {
            "text/plain": [
              "Inst\n",
              "1o Grau     37.33\n",
              "2o Grau     34.00\n",
              "Superior    33.83\n",
              "Name: Idade, dtype: float64"
            ]
          },
          "metadata": {
            "tags": []
          },
          "execution_count": 45
        }
      ]
    },
    {
      "cell_type": "code",
      "metadata": {
        "id": "gNJFyvOdqATZ",
        "colab": {
          "base_uri": "https://localhost:8080/",
          "height": 327
        },
        "outputId": "61a1fc43-ceaf-425d-9b0e-4e032906e0ce"
      },
      "source": [
        "#Agrupando o Grau de Instrução dos funcionários em relação a média de Idade\n",
        "dados.groupby(['Inst']).mean()['Idade'].plot(kind = 'bar', edgecolor = 'black', title = 'Grau de Instrução x Média de Idade');"
      ],
      "execution_count": 46,
      "outputs": [
        {
          "output_type": "display_data",
          "data": {
            "image/png": "[encoded data removed]",
            "text/plain": [
              "<Figure size 432x288 with 1 Axes>"
            ]
          },
          "metadata": {
            "tags": [],
            "needs_background": "light"
          }
        }
      ]
    },
    {
      "cell_type": "markdown",
      "metadata": {
        "id": "VXg4VqgTDnZR"
      },
      "source": [
        "Funcionários com o primeiro grau possuem uma média de idade de 37 anos. Colaboradores com o segundo grau e curso superior têm média de idade de 34 anos."
      ]
    },
    {
      "cell_type": "code",
      "metadata": {
        "colab": {
          "base_uri": "https://localhost:8080/",
          "height": 173
        },
        "id": "hQWYQ8sSEHPP",
        "outputId": "a761fb54-b341-407a-8805-4c142e0bbec9"
      },
      "source": [
        "#Agrupando por Estado Civil e Grau de Instrução em relação a média salarial\n",
        "dados.groupby(['Est.civil','Inst']).mean()['Salario'].round(2).unstack().transpose()"
      ],
      "execution_count": 47,
      "outputs": [
        {
          "output_type": "execute_result",
          "data": {
            "text/html": [
              "<div>\n",
              "<style scoped>\n",
              "    .dataframe tbody tr th:only-of-type {\n",
              "        vertical-align: middle;\n",
              "    }\n",
              "\n",
              "    .dataframe tbody tr th {\n",
              "        vertical-align: top;\n",
              "    }\n",
              "\n",
              "    .dataframe thead th {\n",
              "        text-align: right;\n",
              "    }\n",
              "</style>\n",
              "<table border=\"1\" class=\"dataframe\">\n",
              "  <thead>\n",
              "    <tr style=\"text-align: right;\">\n",
              "      <th>Est.civil</th>\n",
              "      <th>casado</th>\n",
              "      <th>solteiro</th>\n",
              "    </tr>\n",
              "    <tr>\n",
              "      <th>Inst</th>\n",
              "      <th></th>\n",
              "      <th></th>\n",
              "    </tr>\n",
              "  </thead>\n",
              "  <tbody>\n",
              "    <tr>\n",
              "      <th>1o Grau</th>\n",
              "      <td>7.04</td>\n",
              "      <td>8.40</td>\n",
              "    </tr>\n",
              "    <tr>\n",
              "      <th>2o Grau</th>\n",
              "      <td>12.82</td>\n",
              "      <td>8.94</td>\n",
              "    </tr>\n",
              "    <tr>\n",
              "      <th>Superior</th>\n",
              "      <td>17.78</td>\n",
              "      <td>15.17</td>\n",
              "    </tr>\n",
              "  </tbody>\n",
              "</table>\n",
              "</div>"
            ],
            "text/plain": [
              "Est.civil  casado  solteiro\n",
              "Inst                       \n",
              "1o Grau      7.04      8.40\n",
              "2o Grau     12.82      8.94\n",
              "Superior    17.78     15.17"
            ]
          },
          "metadata": {
            "tags": []
          },
          "execution_count": 47
        }
      ]
    },
    {
      "cell_type": "code",
      "metadata": {
        "colab": {
          "base_uri": "https://localhost:8080/",
          "height": 327
        },
        "id": "tqk6NRCI2Sa9",
        "outputId": "66426230-3cb5-4452-f130-8f609248125d"
      },
      "source": [
        "#Gráfico do agrupamento por Estado Civil e Grau de Instrução em relação a média salarial\n",
        "dados.groupby(['Est.civil','Inst']).mean()['Salario'].unstack().transpose().plot(kind = 'bar', color = ['lightblue', 'darkblue'], title = 'Estado Civil x Grau de Instrução x Média Salarial');"
      ],
      "execution_count": 48,
      "outputs": [
        {
          "output_type": "display_data",
          "data": {
            "image/png": "[encoded data removed]",
            "text/plain": [
              "<Figure size 432x288 with 1 Axes>"
            ]
          },
          "metadata": {
            "tags": [],
            "needs_background": "light"
          }
        }
      ]
    },
    {
      "cell_type": "markdown",
      "metadata": {
        "id": "NssBYNNBEd7s"
      },
      "source": [
        "Fcunionários que recebem a maior média salarial de 18 salários mínimos são casados com curso superior. Os colaboradores que recebem menos são casados com primeiro grau de instrução recebendo, em média, 7 salários mínimos."
      ]
    },
    {
      "cell_type": "code",
      "metadata": {
        "colab": {
          "base_uri": "https://localhost:8080/",
          "height": 204
        },
        "id": "FxBwJwB4FadJ",
        "outputId": "3005172e-4dab-41aa-90f8-5e57bf6ef5e7"
      },
      "source": [
        "#Agrupando por Estado Civil e Idade em relação a média salarial\n",
        "dados.groupby(['Est.civil','idade_grupos']).mean()['Salario'].round(2).unstack().transpose()"
      ],
      "execution_count": 49,
      "outputs": [
        {
          "output_type": "execute_result",
          "data": {
            "text/html": [
              "<div>\n",
              "<style scoped>\n",
              "    .dataframe tbody tr th:only-of-type {\n",
              "        vertical-align: middle;\n",
              "    }\n",
              "\n",
              "    .dataframe tbody tr th {\n",
              "        vertical-align: top;\n",
              "    }\n",
              "\n",
              "    .dataframe thead th {\n",
              "        text-align: right;\n",
              "    }\n",
              "</style>\n",
              "<table border=\"1\" class=\"dataframe\">\n",
              "  <thead>\n",
              "    <tr style=\"text-align: right;\">\n",
              "      <th>Est.civil</th>\n",
              "      <th>casado</th>\n",
              "      <th>solteiro</th>\n",
              "    </tr>\n",
              "    <tr>\n",
              "      <th>idade_grupos</th>\n",
              "      <th></th>\n",
              "      <th></th>\n",
              "    </tr>\n",
              "  </thead>\n",
              "  <tbody>\n",
              "    <tr>\n",
              "      <th>[18,24]</th>\n",
              "      <td>NaN</td>\n",
              "      <td>6.59</td>\n",
              "    </tr>\n",
              "    <tr>\n",
              "      <th>[25,30]</th>\n",
              "      <td>10.82</td>\n",
              "      <td>7.66</td>\n",
              "    </tr>\n",
              "    <tr>\n",
              "      <th>[31,40]</th>\n",
              "      <td>10.86</td>\n",
              "      <td>12.57</td>\n",
              "    </tr>\n",
              "    <tr>\n",
              "      <th>[41,50]</th>\n",
              "      <td>17.23</td>\n",
              "      <td>9.27</td>\n",
              "    </tr>\n",
              "  </tbody>\n",
              "</table>\n",
              "</div>"
            ],
            "text/plain": [
              "Est.civil     casado  solteiro\n",
              "idade_grupos                  \n",
              "[18,24]          NaN      6.59\n",
              "[25,30]        10.82      7.66\n",
              "[31,40]        10.86     12.57\n",
              "[41,50]        17.23      9.27"
            ]
          },
          "metadata": {
            "tags": []
          },
          "execution_count": 49
        }
      ]
    },
    {
      "cell_type": "code",
      "metadata": {
        "colab": {
          "base_uri": "https://localhost:8080/",
          "height": 322
        },
        "id": "5ywHkUGsGhXJ",
        "outputId": "0795dfec-50b3-4c68-ace8-2d44bfb666b5"
      },
      "source": [
        "#Gráfico de agrupamento por Estado Civil e Idade em relação a média salarial\n",
        "dados.groupby(['Est.civil','idade_grupos']).mean()['Salario'].round(2).unstack().transpose().plot(kind = 'bar', color = ['lightblue', 'darkblue'], title = 'Estado Civil x Idade x Média Salarial');"
      ],
      "execution_count": 50,
      "outputs": [
        {
          "output_type": "display_data",
          "data": {
            "image/png": "[encoded data removed]",
            "text/plain": [
              "<Figure size 432x288 with 1 Axes>"
            ]
          },
          "metadata": {
            "tags": [],
            "needs_background": "light"
          }
        }
      ]
    },
    {
      "cell_type": "markdown",
      "metadata": {
        "id": "-3xemKgaHqcI"
      },
      "source": [
        "Casados recebem a maior média salarial entre todas as faixas etárias. Funcionários casados na faixa de idade entre 41 e 50 anos recebem, em média, 17.23 salários mínimos. \n",
        "Solteiros na faixa de idade entre 18 e 24 anos recebem a menor média salarial: 6.59 salários mínimos."
      ]
    },
    {
      "cell_type": "code",
      "metadata": {
        "colab": {
          "base_uri": "https://localhost:8080/",
          "height": 235
        },
        "id": "2LU0x1sKcmMU",
        "outputId": "fdbad826-a1d3-4502-bec0-6e58c1169af1"
      },
      "source": [
        "#Agrupamento por Estado Civil e Filhos em relação a média de Idade\n",
        "dados.groupby(['Est.civil','Filhos']).mean()['Idade'].round(2).unstack().transpose()"
      ],
      "execution_count": 51,
      "outputs": [
        {
          "output_type": "execute_result",
          "data": {
            "text/html": [
              "<div>\n",
              "<style scoped>\n",
              "    .dataframe tbody tr th:only-of-type {\n",
              "        vertical-align: middle;\n",
              "    }\n",
              "\n",
              "    .dataframe tbody tr th {\n",
              "        vertical-align: top;\n",
              "    }\n",
              "\n",
              "    .dataframe thead th {\n",
              "        text-align: right;\n",
              "    }\n",
              "</style>\n",
              "<table border=\"1\" class=\"dataframe\">\n",
              "  <thead>\n",
              "    <tr style=\"text-align: right;\">\n",
              "      <th>Est.civil</th>\n",
              "      <th>casado</th>\n",
              "    </tr>\n",
              "    <tr>\n",
              "      <th>Filhos</th>\n",
              "      <th></th>\n",
              "    </tr>\n",
              "  </thead>\n",
              "  <tbody>\n",
              "    <tr>\n",
              "      <th>0.0</th>\n",
              "      <td>28.50</td>\n",
              "    </tr>\n",
              "    <tr>\n",
              "      <th>1.0</th>\n",
              "      <td>33.40</td>\n",
              "    </tr>\n",
              "    <tr>\n",
              "      <th>2.0</th>\n",
              "      <td>37.43</td>\n",
              "    </tr>\n",
              "    <tr>\n",
              "      <th>3.0</th>\n",
              "      <td>43.33</td>\n",
              "    </tr>\n",
              "    <tr>\n",
              "      <th>5.0</th>\n",
              "      <td>40.00</td>\n",
              "    </tr>\n",
              "  </tbody>\n",
              "</table>\n",
              "</div>"
            ],
            "text/plain": [
              "Est.civil  casado\n",
              "Filhos           \n",
              "0.0         28.50\n",
              "1.0         33.40\n",
              "2.0         37.43\n",
              "3.0         43.33\n",
              "5.0         40.00"
            ]
          },
          "metadata": {
            "tags": []
          },
          "execution_count": 51
        }
      ]
    },
    {
      "cell_type": "code",
      "metadata": {
        "colab": {
          "base_uri": "https://localhost:8080/",
          "height": 295
        },
        "id": "CXsdc2Xue61Z",
        "outputId": "4c5975aa-dc5c-457e-ccb8-4a4639af854e"
      },
      "source": [
        "#Gráfico de agrupamento por Estado Civil e Filhos em relação a média de Idade\n",
        "dados.groupby(['Est.civil','Filhos']).mean()['Idade'].round(2).unstack().transpose().plot(kind = 'line', title = 'Estado Civil x Filhos x Média Idade');"
      ],
      "execution_count": 52,
      "outputs": [
        {
          "output_type": "display_data",
          "data": {
            "image/png": "[encoded data removed]",
            "text/plain": [
              "<Figure size 432x288 with 1 Axes>"
            ]
          },
          "metadata": {
            "tags": [],
            "needs_background": "light"
          }
        }
      ]
    },
    {
      "cell_type": "markdown",
      "metadata": {
        "id": "gMbDg4wRjSTd"
      },
      "source": [
        "Apenas os funcionários casados possuem filhos. Funcionários com média de idade de 43 anos têm 3 filhos e colaboradores com 33 anos, em média, possuem apenas 1 filho."
      ]
    },
    {
      "cell_type": "code",
      "metadata": {
        "colab": {
          "base_uri": "https://localhost:8080/",
          "height": 235
        },
        "id": "CAiA7Y4RjuGX",
        "outputId": "8e2c233f-25ea-4472-8a43-bc68ead5142a"
      },
      "source": [
        "#Agrupando por Grau de Instrução e Filhos em relação a média salarial\n",
        "dados.groupby(['Inst','Filhos']).mean()['Salario'].round(2).unstack().transpose()"
      ],
      "execution_count": 53,
      "outputs": [
        {
          "output_type": "execute_result",
          "data": {
            "text/html": [
              "<div>\n",
              "<style scoped>\n",
              "    .dataframe tbody tr th:only-of-type {\n",
              "        vertical-align: middle;\n",
              "    }\n",
              "\n",
              "    .dataframe tbody tr th {\n",
              "        vertical-align: top;\n",
              "    }\n",
              "\n",
              "    .dataframe thead th {\n",
              "        text-align: right;\n",
              "    }\n",
              "</style>\n",
              "<table border=\"1\" class=\"dataframe\">\n",
              "  <thead>\n",
              "    <tr style=\"text-align: right;\">\n",
              "      <th>Inst</th>\n",
              "      <th>1o Grau</th>\n",
              "      <th>2o Grau</th>\n",
              "      <th>Superior</th>\n",
              "    </tr>\n",
              "    <tr>\n",
              "      <th>Filhos</th>\n",
              "      <th></th>\n",
              "      <th></th>\n",
              "      <th></th>\n",
              "    </tr>\n",
              "  </thead>\n",
              "  <tbody>\n",
              "    <tr>\n",
              "      <th>0.0</th>\n",
              "      <td>6.66</td>\n",
              "      <td>11.91</td>\n",
              "      <td>12.79</td>\n",
              "    </tr>\n",
              "    <tr>\n",
              "      <th>1.0</th>\n",
              "      <td>4.56</td>\n",
              "      <td>11.26</td>\n",
              "      <td>NaN</td>\n",
              "    </tr>\n",
              "    <tr>\n",
              "      <th>2.0</th>\n",
              "      <td>7.52</td>\n",
              "      <td>14.07</td>\n",
              "      <td>NaN</td>\n",
              "    </tr>\n",
              "    <tr>\n",
              "      <th>3.0</th>\n",
              "      <td>8.95</td>\n",
              "      <td>NaN</td>\n",
              "      <td>20.28</td>\n",
              "    </tr>\n",
              "    <tr>\n",
              "      <th>5.0</th>\n",
              "      <td>NaN</td>\n",
              "      <td>14.71</td>\n",
              "      <td>NaN</td>\n",
              "    </tr>\n",
              "  </tbody>\n",
              "</table>\n",
              "</div>"
            ],
            "text/plain": [
              "Inst    1o Grau  2o Grau  Superior\n",
              "Filhos                            \n",
              "0.0        6.66    11.91     12.79\n",
              "1.0        4.56    11.26       NaN\n",
              "2.0        7.52    14.07       NaN\n",
              "3.0        8.95      NaN     20.28\n",
              "5.0         NaN    14.71       NaN"
            ]
          },
          "metadata": {
            "tags": []
          },
          "execution_count": 53
        }
      ]
    },
    {
      "cell_type": "code",
      "metadata": {
        "colab": {
          "base_uri": "https://localhost:8080/",
          "height": 295
        },
        "id": "RU7Zcof5rBdC",
        "outputId": "204f0d23-33ad-41e1-ecb4-7cce1b652c48"
      },
      "source": [
        "#Gráfico do agrupamento por Grau de Instrução e Filhos em relação a média salarial\n",
        "\n",
        "#Importando a biblioteca matplotlib\n",
        "import matplotlib.pyplot as plt\n",
        "import numpy as np\n",
        "  \n",
        "#Criando os dados\n",
        "x = ['0', '1', '2', '3', '5']\n",
        "y1 = np.array([6.66, 4.56, 7.52, 8.95, 0])\n",
        "y2 = np.array([11.91, 11.26, 14.07, 0, 14.71])\n",
        "y3 = np.array([12.79, 0, 0, 20.28, 0])\n",
        "  \n",
        "#Plotando as barras agrupadas\n",
        "plt.bar(x, y1, color='red')\n",
        "plt.bar(x, y2, bottom=y1, color='blue')\n",
        "plt.bar(x, y3, bottom=y1+y2, color='orange')\n",
        "\n",
        "#Customização do gráfico\n",
        "plt.xlabel(\"Quantidade de Filhos\")\n",
        "plt.ylabel(\"Média Salarial\")\n",
        "plt.legend([\"1º grau\", \"2º grau\", \"Superior\"])\n",
        "plt.title(\"Número de Filhos e Grau de Instrução x Média Salarial\")\n",
        "plt.show()"
      ],
      "execution_count": 65,
      "outputs": [
        {
          "output_type": "display_data",
          "data": {
            "image/png": "[encoded data removed]",
            "text/plain": [
              "<Figure size 432x288 with 1 Axes>"
            ]
          },
          "metadata": {
            "tags": [],
            "needs_background": "light"
          }
        }
      ]
    }
  ]
}